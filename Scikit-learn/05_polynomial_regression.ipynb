{
 "cells": [
  {
   "cell_type": "markdown",
   "metadata": {},
   "source": [
    "## Polynomial regression"
   ]
  },
  {
   "cell_type": "markdown",
   "metadata": {},
   "source": [
    "### <a name='a1'></a> Polynomial Regression - Regresja Wielomianowa\n",
    "Powszechnym wzorcem stosowanym w uczeniu maszynowym jest użycie modeli liniowych wytrenowanych na nieliniowych funkcjach danych. Podejscie to utrzymuje szybkie działanie metod liniowych i zarazem umożliwia stosowanie metod liniowych dla znacznie szerszego zakresu danych.\n",
    "\n",
    "Przykładowo, prosta regresja liniowa może zostać zastosowana przez skonstruowanie cech wielomianowych do modelów nieliniowych.\n",
    "\n",
    "Rozważmy model regresji liniowej:\n",
    "$$\\hat{y}(w, x) = w_0 + w_1 x_1 + w_2 x_2$$\n",
    "Dodając cechy wileomianowe otrzymujemy:\n",
    "$$\\hat{y}(w, x) = w_0 + w_1 x_1 + w_2 x_2 + w_3 x_1 x_2 + w_4 x_1^2 + w_5 x_2^2$$\n",
    "Wyobraźmy sobie teraz nastepujące podstawienie:\n",
    "$$z = [1, x_1, x_2, x_1 x_2, x_1^2, x_2^2]$$\n",
    "Wrzucając to z powrotem do naszego modelu dotrzymujemy prosty model liniowy:\n",
    "$$\\hat{y}(w, z) = w_0 + w_1 z_1 + w_2 z_2 + w_3 z_3 + w_4 z_4 + w_5 z_5$$\n",
    "\n",
    "To implikuje fakt, iż nasz model regresji wielomianowej znajduje się w klasie modeli liniowych i może być rozwiązany za pomocą tych samych technik. \n",
    "\n",
    "### Rozważmy model regresji liniowej: $\\hat{y}(w,x)=w_0+w_1x_1$\n"
   ]
  },
  {
   "cell_type": "code",
   "execution_count": 5,
   "metadata": {},
   "outputs": [
    {
     "data": {
      "image/png": "[encoded data removed]",
      "text/plain": [
       "<Figure size 432x288 with 1 Axes>"
      ]
     },
     "metadata": {},
     "output_type": "display_data"
    }
   ],
   "source": [
    "import numpy as np\n",
    "import matplotlib.pyplot as plt\n",
    "import seaborn as sns\n",
    "sns.set()\n",
    "\n",
    "np.random.seed(0)\n",
    "X = np.arange(-10, 10, .5)\n",
    "noise = 80 * np.random.randn(40)\n",
    "y = -X**3 + 10*X**2 - 2*X + 3 + noise\n",
    "X=X.reshape(-1,1)\n",
    "_ = plt.scatter(X,y)"
   ]
  },
  {
   "cell_type": "code",
   "execution_count": 7,
   "metadata": {},
   "outputs": [
    {
     "data": {
      "image/png": "[encoded data removed]",
      "text/plain": [
       "<Figure size 432x288 with 1 Axes>"
      ]
     },
     "metadata": {},
     "output_type": "display_data"
    }
   ],
   "source": [
    "from sklearn.linear_model import LinearRegression\n",
    "\n",
    "regressor = LinearRegression()\n",
    "regressor.fit(X,y)\n",
    "y_pred = regressor.predict(X)\n",
    "\n",
    "plt.scatter(X, y)\n",
    "_ = plt.plot(X, y_pred, c='red')"
   ]
  },
  {
   "cell_type": "code",
   "execution_count": 8,
   "metadata": {},
   "outputs": [
    {
     "data": {
      "text/plain": [
       "0.5398062344255776"
      ]
     },
     "execution_count": 8,
     "metadata": {},
     "output_type": "execute_result"
    }
   ],
   "source": [
    "from sklearn.metrics import r2_score\n",
    "\n",
    "r2_score(y, y_pred)"
   ]
  },
  {
   "cell_type": "markdown",
   "metadata": {},
   "source": [
    "Model jest niedouczony (underfitting). Potrzebujemy zwiekszyć złozoność modelu do naszego problemu.\n",
    "\n",
    "Rozważmy model regresji liniowej:\n",
    "$$\\hat{y}(w, x) = w_0 + w_1 x_1$$\n",
    "Dodając cechy wielomianowe otrzymujemy:\n",
    "$$\\hat{y}(w, x) = w_0 + w_1 x_1 +w_2x_1^2 $$\n",
    "Wyobraźmy sobie teraz nastepujące podstawienie:\n",
    "$$z = [1, x_1, x_1^2]$$\n",
    "Wrzucając to z powrotem do naszego modelu otrzymujemy prosty model liniowy:\n",
    "$$\\hat{y}(w, z) = w_0 + w_1 z_1 + w_2 z_2$$"
   ]
  },
  {
   "cell_type": "markdown",
   "metadata": {},
   "source": [
    "###  <a name='a2'></a> Ekstrakcja cech wielomianowych - stopień 2"
   ]
  },
  {
   "cell_type": "code",
   "execution_count": 10,
   "metadata": {
    "collapsed": true
   },
   "outputs": [
    {
     "data": {
      "text/plain": [
       "array([[  1.  , -10.  , 100.  ],\n",
       "       [  1.  ,  -9.5 ,  90.25],\n",
       "       [  1.  ,  -9.  ,  81.  ],\n",
       "       [  1.  ,  -8.5 ,  72.25],\n",
       "       [  1.  ,  -8.  ,  64.  ],\n",
       "       [  1.  ,  -7.5 ,  56.25],\n",
       "       [  1.  ,  -7.  ,  49.  ],\n",
       "       [  1.  ,  -6.5 ,  42.25],\n",
       "       [  1.  ,  -6.  ,  36.  ],\n",
       "       [  1.  ,  -5.5 ,  30.25],\n",
       "       [  1.  ,  -5.  ,  25.  ],\n",
       "       [  1.  ,  -4.5 ,  20.25],\n",
       "       [  1.  ,  -4.  ,  16.  ],\n",
       "       [  1.  ,  -3.5 ,  12.25],\n",
       "       [  1.  ,  -3.  ,   9.  ],\n",
       "       [  1.  ,  -2.5 ,   6.25],\n",
       "       [  1.  ,  -2.  ,   4.  ],\n",
       "       [  1.  ,  -1.5 ,   2.25],\n",
       "       [  1.  ,  -1.  ,   1.  ],\n",
       "       [  1.  ,  -0.5 ,   0.25],\n",
       "       [  1.  ,   0.  ,   0.  ],\n",
       "       [  1.  ,   0.5 ,   0.25],\n",
       "       [  1.  ,   1.  ,   1.  ],\n",
       "       [  1.  ,   1.5 ,   2.25],\n",
       "       [  1.  ,   2.  ,   4.  ],\n",
       "       [  1.  ,   2.5 ,   6.25],\n",
       "       [  1.  ,   3.  ,   9.  ],\n",
       "       [  1.  ,   3.5 ,  12.25],\n",
       "       [  1.  ,   4.  ,  16.  ],\n",
       "       [  1.  ,   4.5 ,  20.25],\n",
       "       [  1.  ,   5.  ,  25.  ],\n",
       "       [  1.  ,   5.5 ,  30.25],\n",
       "       [  1.  ,   6.  ,  36.  ],\n",
       "       [  1.  ,   6.5 ,  42.25],\n",
       "       [  1.  ,   7.  ,  49.  ],\n",
       "       [  1.  ,   7.5 ,  56.25],\n",
       "       [  1.  ,   8.  ,  64.  ],\n",
       "       [  1.  ,   8.5 ,  72.25],\n",
       "       [  1.  ,   9.  ,  81.  ],\n",
       "       [  1.  ,   9.5 ,  90.25]])"
      ]
     },
     "execution_count": 10,
     "metadata": {},
     "output_type": "execute_result"
    }
   ],
   "source": [
    "from sklearn.preprocessing import PolynomialFeatures\n",
    "\n",
    "poly = PolynomialFeatures(degree=2)\n",
    "X_poly = poly.fit_transform(X)\n",
    "X_poly"
   ]
  },
  {
   "cell_type": "markdown",
   "metadata": {},
   "source": [
    "###  <a name='a3'></a> Dopasowanie modelu"
   ]
  },
  {
   "cell_type": "code",
   "execution_count": 11,
   "metadata": {},
   "outputs": [
    {
     "data": {
      "image/png": "[encoded data removed]",
      "text/plain": [
       "<Figure size 432x288 with 1 Axes>"
      ]
     },
     "metadata": {},
     "output_type": "display_data"
    }
   ],
   "source": [
    "regressor_poly = LinearRegression()\n",
    "regressor_poly.fit(X_poly, y)\n",
    "\n",
    "y_pred = regressor_poly.predict(X_poly)\n",
    "\n",
    "plt.scatter(X, y)\n",
    "_ = plt.plot(X, y_pred, c='r')"
   ]
  },
  {
   "cell_type": "code",
   "execution_count": 13,
   "metadata": {},
   "outputs": [
    {
     "data": {
      "text/plain": [
       "0.9000601519884677"
      ]
     },
     "execution_count": 13,
     "metadata": {},
     "output_type": "execute_result"
    }
   ],
   "source": [
    "r2_score(y,y_pred)"
   ]
  },
  {
   "cell_type": "markdown",
   "metadata": {},
   "source": [
    "###  <a name='a4'></a> Ekstrakcja cech wielomianowych - stopień 3"
   ]
  },
  {
   "cell_type": "code",
   "execution_count": 14,
   "metadata": {},
   "outputs": [
    {
     "data": {
      "text/plain": [
       "array([[ 1.00000e+00, -1.00000e+01,  1.00000e+02, -1.00000e+03],\n",
       "       [ 1.00000e+00, -9.50000e+00,  9.02500e+01, -8.57375e+02],\n",
       "       [ 1.00000e+00, -9.00000e+00,  8.10000e+01, -7.29000e+02],\n",
       "       [ 1.00000e+00, -8.50000e+00,  7.22500e+01, -6.14125e+02],\n",
       "       [ 1.00000e+00, -8.00000e+00,  6.40000e+01, -5.12000e+02],\n",
       "       [ 1.00000e+00, -7.50000e+00,  5.62500e+01, -4.21875e+02],\n",
       "       [ 1.00000e+00, -7.00000e+00,  4.90000e+01, -3.43000e+02],\n",
       "       [ 1.00000e+00, -6.50000e+00,  4.22500e+01, -2.74625e+02],\n",
       "       [ 1.00000e+00, -6.00000e+00,  3.60000e+01, -2.16000e+02],\n",
       "       [ 1.00000e+00, -5.50000e+00,  3.02500e+01, -1.66375e+02],\n",
       "       [ 1.00000e+00, -5.00000e+00,  2.50000e+01, -1.25000e+02],\n",
       "       [ 1.00000e+00, -4.50000e+00,  2.02500e+01, -9.11250e+01],\n",
       "       [ 1.00000e+00, -4.00000e+00,  1.60000e+01, -6.40000e+01],\n",
       "       [ 1.00000e+00, -3.50000e+00,  1.22500e+01, -4.28750e+01],\n",
       "       [ 1.00000e+00, -3.00000e+00,  9.00000e+00, -2.70000e+01],\n",
       "       [ 1.00000e+00, -2.50000e+00,  6.25000e+00, -1.56250e+01],\n",
       "       [ 1.00000e+00, -2.00000e+00,  4.00000e+00, -8.00000e+00],\n",
       "       [ 1.00000e+00, -1.50000e+00,  2.25000e+00, -3.37500e+00],\n",
       "       [ 1.00000e+00, -1.00000e+00,  1.00000e+00, -1.00000e+00],\n",
       "       [ 1.00000e+00, -5.00000e-01,  2.50000e-01, -1.25000e-01],\n",
       "       [ 1.00000e+00,  0.00000e+00,  0.00000e+00,  0.00000e+00],\n",
       "       [ 1.00000e+00,  5.00000e-01,  2.50000e-01,  1.25000e-01],\n",
       "       [ 1.00000e+00,  1.00000e+00,  1.00000e+00,  1.00000e+00],\n",
       "       [ 1.00000e+00,  1.50000e+00,  2.25000e+00,  3.37500e+00],\n",
       "       [ 1.00000e+00,  2.00000e+00,  4.00000e+00,  8.00000e+00],\n",
       "       [ 1.00000e+00,  2.50000e+00,  6.25000e+00,  1.56250e+01],\n",
       "       [ 1.00000e+00,  3.00000e+00,  9.00000e+00,  2.70000e+01],\n",
       "       [ 1.00000e+00,  3.50000e+00,  1.22500e+01,  4.28750e+01],\n",
       "       [ 1.00000e+00,  4.00000e+00,  1.60000e+01,  6.40000e+01],\n",
       "       [ 1.00000e+00,  4.50000e+00,  2.02500e+01,  9.11250e+01],\n",
       "       [ 1.00000e+00,  5.00000e+00,  2.50000e+01,  1.25000e+02],\n",
       "       [ 1.00000e+00,  5.50000e+00,  3.02500e+01,  1.66375e+02],\n",
       "       [ 1.00000e+00,  6.00000e+00,  3.60000e+01,  2.16000e+02],\n",
       "       [ 1.00000e+00,  6.50000e+00,  4.22500e+01,  2.74625e+02],\n",
       "       [ 1.00000e+00,  7.00000e+00,  4.90000e+01,  3.43000e+02],\n",
       "       [ 1.00000e+00,  7.50000e+00,  5.62500e+01,  4.21875e+02],\n",
       "       [ 1.00000e+00,  8.00000e+00,  6.40000e+01,  5.12000e+02],\n",
       "       [ 1.00000e+00,  8.50000e+00,  7.22500e+01,  6.14125e+02],\n",
       "       [ 1.00000e+00,  9.00000e+00,  8.10000e+01,  7.29000e+02],\n",
       "       [ 1.00000e+00,  9.50000e+00,  9.02500e+01,  8.57375e+02]])"
      ]
     },
     "execution_count": 14,
     "metadata": {},
     "output_type": "execute_result"
    }
   ],
   "source": [
    "poly = PolynomialFeatures(degree=3)\n",
    "X_poly = poly.fit_transform(X)\n",
    "X_poly"
   ]
  },
  {
   "cell_type": "markdown",
   "metadata": {},
   "source": [
    "###  <a name='a3'></a> Dopasowanie modelu"
   ]
  },
  {
   "cell_type": "code",
   "execution_count": 15,
   "metadata": {},
   "outputs": [
    {
     "data": {
      "image/png": "[encoded data removed]",
      "text/plain": [
       "<Figure size 432x288 with 1 Axes>"
      ]
     },
     "metadata": {},
     "output_type": "display_data"
    }
   ],
   "source": [
    "regressor_poly = LinearRegression()\n",
    "regressor_poly.fit(X_poly, y)\n",
    "\n",
    "y_pred = regressor_poly.predict(X_poly)\n",
    "\n",
    "plt.scatter(X, y)\n",
    "_ = plt.plot(X, y_pred, c='r')"
   ]
  },
  {
   "cell_type": "code",
   "execution_count": null,
   "metadata": {},
   "outputs": [],
   "source": []
  }
 ],
 "metadata": {
  "kernelspec": {
   "display_name": "Python 3",
   "language": "python",
   "name": "python3"
  },
  "language_info": {
   "codemirror_mode": {
    "name": "ipython",
    "version": 3
   },
   "file_extension": ".py",
   "mimetype": "text/x-python",
   "name": "python",
   "nbconvert_exporter": "python",
   "pygments_lexer": "ipython3",
   "version": "3.7.7"
  }
 },
 "nbformat": 4,
 "nbformat_minor": 4
}
