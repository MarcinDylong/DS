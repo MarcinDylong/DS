{
 "cells": [
  {
   "cell_type": "markdown",
   "metadata": {},
   "source": [
    "### Import bibliotek"
   ]
  },
  {
   "cell_type": "code",
   "execution_count": 1,
   "metadata": {},
   "outputs": [
    {
     "data": {
      "text/plain": [
       "'4.4.0'"
      ]
     },
     "execution_count": 1,
     "metadata": {},
     "output_type": "execute_result"
    }
   ],
   "source": [
    "import cv2\n",
    "\n",
    "cv2.__version__"
   ]
  },
  {
   "cell_type": "markdown",
   "metadata": {},
   "source": [
    "### Wczytanie obrazu"
   ]
  },
  {
   "cell_type": "code",
   "execution_count": 2,
   "metadata": {},
   "outputs": [
    {
     "data": {
      "text/plain": [
       "array([[[117,  78,  50],\n",
       "        [114,  76,  46],\n",
       "        [122,  84,  54],\n",
       "        ...,\n",
       "        [121,  83,  51],\n",
       "        [125,  87,  55],\n",
       "        [124,  86,  54]],\n",
       "\n",
       "       [[120,  82,  52],\n",
       "        [121,  83,  53],\n",
       "        [119,  81,  51],\n",
       "        ...,\n",
       "        [124,  86,  54],\n",
       "        [124,  86,  54],\n",
       "        [122,  84,  52]],\n",
       "\n",
       "       [[122,  84,  54],\n",
       "        [122,  84,  54],\n",
       "        [118,  80,  50],\n",
       "        ...,\n",
       "        [124,  87,  53],\n",
       "        [121,  84,  50],\n",
       "        [121,  84,  50]],\n",
       "\n",
       "       ...,\n",
       "\n",
       "       [[ 57,  41,  34],\n",
       "        [ 55,  39,  33],\n",
       "        [ 50,  33,  30],\n",
       "        ...,\n",
       "        [ 54,  48,  37],\n",
       "        [ 49,  43,  36],\n",
       "        [ 42,  37,  34]],\n",
       "\n",
       "       [[ 55,  39,  27],\n",
       "        [ 55,  37,  30],\n",
       "        [ 54,  37,  34],\n",
       "        ...,\n",
       "        [ 48,  39,  30],\n",
       "        [ 49,  40,  36],\n",
       "        [ 59,  54,  53]],\n",
       "\n",
       "       [[ 57,  41,  28],\n",
       "        [ 58,  41,  32],\n",
       "        [ 61,  42,  37],\n",
       "        ...,\n",
       "        [ 64,  50,  44],\n",
       "        [ 64,  52,  50],\n",
       "        [ 54,  46,  47]]], dtype=uint8)"
      ]
     },
     "execution_count": 2,
     "metadata": {},
     "output_type": "execute_result"
    }
   ],
   "source": [
    "img = cv2.imread(filename='view.jpg')\n",
    "img"
   ]
  },
  {
   "cell_type": "code",
   "execution_count": 3,
   "metadata": {},
   "outputs": [
    {
     "data": {
      "text/plain": [
       "(480, 586, 3)"
      ]
     },
     "execution_count": 3,
     "metadata": {},
     "output_type": "execute_result"
    }
   ],
   "source": [
    "window_name = 'image'\n",
    "img.shape"
   ]
  },
  {
   "cell_type": "code",
   "execution_count": 4,
   "metadata": {},
   "outputs": [
    {
     "data": {
      "text/plain": [
       "32"
      ]
     },
     "execution_count": 4,
     "metadata": {},
     "output_type": "execute_result"
    }
   ],
   "source": [
    "cv2.imshow(window_name, img)\n",
    "cv2.waitKey(0)"
   ]
  },
  {
   "cell_type": "code",
   "execution_count": 5,
   "metadata": {},
   "outputs": [],
   "source": [
    "cv2.destroyAllWindows()"
   ]
  },
  {
   "cell_type": "markdown",
   "metadata": {},
   "source": [
    "### Zapisanie obrazu do pliku"
   ]
  },
  {
   "cell_type": "code",
   "execution_count": 6,
   "metadata": {},
   "outputs": [
    {
     "data": {
      "text/plain": [
       "True"
      ]
     },
     "execution_count": 6,
     "metadata": {},
     "output_type": "execute_result"
    }
   ],
   "source": [
    "cv2.imwrite(filename='view-copy.png', img=img)"
   ]
  },
  {
   "cell_type": "markdown",
   "metadata": {},
   "source": [
    "### Wczytanie obrazu w skali szarości"
   ]
  },
  {
   "cell_type": "code",
   "execution_count": 7,
   "metadata": {},
   "outputs": [
    {
     "data": {
      "text/plain": [
       "array([[74, 71, 79, ..., 78, 82, 81],\n",
       "       [77, 78, 76, ..., 81, 81, 79],\n",
       "       [79, 79, 75, ..., 81, 78, 78],\n",
       "       ...,\n",
       "       [41, 39, 34, ..., 45, 42, 37],\n",
       "       [37, 37, 38, ..., 37, 40, 54],\n",
       "       [39, 40, 43, ..., 50, 53, 47]], dtype=uint8)"
      ]
     },
     "execution_count": 7,
     "metadata": {},
     "output_type": "execute_result"
    }
   ],
   "source": [
    "img = cv2.imread(filename='view.jpg', flags=cv2.IMREAD_GRAYSCALE)\n",
    "img"
   ]
  },
  {
   "cell_type": "code",
   "execution_count": 8,
   "metadata": {},
   "outputs": [
    {
     "data": {
      "text/plain": [
       "32"
      ]
     },
     "execution_count": 8,
     "metadata": {},
     "output_type": "execute_result"
    }
   ],
   "source": [
    "cv2.imshow(window_name,img)\n",
    "cv2.waitKey(0)"
   ]
  },
  {
   "cell_type": "code",
   "execution_count": 9,
   "metadata": {},
   "outputs": [
    {
     "data": {
      "text/plain": [
       "(480, 586)"
      ]
     },
     "execution_count": 9,
     "metadata": {},
     "output_type": "execute_result"
    }
   ],
   "source": [
    "img.shape"
   ]
  },
  {
   "cell_type": "markdown",
   "metadata": {},
   "source": [
    "### Wycinanie fragmentu obrazu"
   ]
  },
  {
   "cell_type": "code",
   "execution_count": 10,
   "metadata": {},
   "outputs": [],
   "source": [
    "img = cv2.imread(filename='view.jpg')"
   ]
  },
  {
   "cell_type": "code",
   "execution_count": 11,
   "metadata": {},
   "outputs": [
    {
     "name": "stdout",
     "output_type": "stream",
     "text": [
      "[[[117  78  50]\n",
      "  [114  76  46]\n",
      "  [122  84  54]\n",
      "  ...\n",
      "  [157 118  86]\n",
      "  [157 118  86]\n",
      "  [157 118  86]]\n",
      "\n",
      " [[120  82  52]\n",
      "  [121  83  53]\n",
      "  [119  81  51]\n",
      "  ...\n",
      "  [158 120  86]\n",
      "  [157 119  85]\n",
      "  [157 116  83]]\n",
      "\n",
      " [[122  84  54]\n",
      "  [122  84  54]\n",
      "  [118  80  50]\n",
      "  ...\n",
      "  [159 121  87]\n",
      "  [161 120  87]\n",
      "  [161 120  87]]\n",
      "\n",
      " ...\n",
      "\n",
      " [[172 174 168]\n",
      "  [172 174 168]\n",
      "  [172 174 168]\n",
      "  ...\n",
      "  [223 228 227]\n",
      "  [223 228 227]\n",
      "  [223 228 227]]\n",
      "\n",
      " [[172 174 168]\n",
      "  [172 174 168]\n",
      "  [172 174 168]\n",
      "  ...\n",
      "  [223 228 227]\n",
      "  [223 228 227]\n",
      "  [224 229 228]]\n",
      "\n",
      " [[172 174 168]\n",
      "  [172 174 168]\n",
      "  [173 175 169]\n",
      "  ...\n",
      "  [224 228 229]\n",
      "  [224 228 229]\n",
      "  [225 229 230]]]\n"
     ]
    },
    {
     "data": {
      "text/plain": [
       "32"
      ]
     },
     "execution_count": 11,
     "metadata": {},
     "output_type": "execute_result"
    }
   ],
   "source": [
    "left_top_square = img[:200, :200]\n",
    "print(left_top_square)\n",
    "cv2.imshow(window_name, left_top_square)\n",
    "cv2.waitKey(0)"
   ]
  },
  {
   "cell_type": "code",
   "execution_count": 13,
   "metadata": {},
   "outputs": [
    {
     "name": "stdout",
     "output_type": "stream",
     "text": [
      "[[[ 85 129 183]\n",
      "  [ 87 131 185]\n",
      "  [ 82 128 182]\n",
      "  ...\n",
      "  [107 201 254]\n",
      "  [107 201 254]\n",
      "  [106 202 255]]\n",
      "\n",
      " [[ 86 127 182]\n",
      "  [ 87 127 185]\n",
      "  [ 86 126 184]\n",
      "  ...\n",
      "  [104 197 252]\n",
      "  [106 199 254]\n",
      "  [108 202 255]]\n",
      "\n",
      " [[ 85 122 182]\n",
      "  [ 86 123 183]\n",
      "  [ 87 127 186]\n",
      "  ...\n",
      "  [104 197 252]\n",
      "  [106 199 254]\n",
      "  [108 201 255]]\n",
      "\n",
      " ...\n",
      "\n",
      " [[ 57  41  34]\n",
      "  [ 55  39  33]\n",
      "  [ 50  33  30]\n",
      "  ...\n",
      "  [ 66  43  27]\n",
      "  [ 66  46  21]\n",
      "  [ 83  60  38]]\n",
      "\n",
      " [[ 55  39  27]\n",
      "  [ 55  37  30]\n",
      "  [ 54  37  34]\n",
      "  ...\n",
      "  [ 75  51  39]\n",
      "  [ 73  47  31]\n",
      "  [ 92  64  53]]\n",
      "\n",
      " [[ 57  41  28]\n",
      "  [ 58  41  32]\n",
      "  [ 61  42  37]\n",
      "  ...\n",
      "  [ 81  60  62]\n",
      "  [ 84  59  63]\n",
      "  [ 79  52  56]]]\n"
     ]
    },
    {
     "data": {
      "text/plain": [
       "32"
      ]
     },
     "execution_count": 13,
     "metadata": {},
     "output_type": "execute_result"
    }
   ],
   "source": [
    "right_top_square = img[:200, -200:]\n",
    "print(right_top_square)\n",
    "cv2.imshow(window_name, right_top_square)\n",
    "cv2.waitKey(0)"
   ]
  },
  {
   "cell_type": "code",
   "execution_count": 14,
   "metadata": {},
   "outputs": [
    {
     "name": "stdout",
     "output_type": "stream",
     "text": [
      "[[[ 85 129 183]\n",
      "  [ 87 131 185]\n",
      "  [ 82 128 182]\n",
      "  ...\n",
      "  [107 201 254]\n",
      "  [107 201 254]\n",
      "  [106 202 255]]\n",
      "\n",
      " [[ 86 127 182]\n",
      "  [ 87 127 185]\n",
      "  [ 86 126 184]\n",
      "  ...\n",
      "  [104 197 252]\n",
      "  [106 199 254]\n",
      "  [108 202 255]]\n",
      "\n",
      " [[ 85 122 182]\n",
      "  [ 86 123 183]\n",
      "  [ 87 127 186]\n",
      "  ...\n",
      "  [104 197 252]\n",
      "  [106 199 254]\n",
      "  [108 201 255]]\n",
      "\n",
      " ...\n",
      "\n",
      " [[ 57  41  34]\n",
      "  [ 55  39  33]\n",
      "  [ 50  33  30]\n",
      "  ...\n",
      "  [ 66  43  27]\n",
      "  [ 66  46  21]\n",
      "  [ 83  60  38]]\n",
      "\n",
      " [[ 55  39  27]\n",
      "  [ 55  37  30]\n",
      "  [ 54  37  34]\n",
      "  ...\n",
      "  [ 75  51  39]\n",
      "  [ 73  47  31]\n",
      "  [ 92  64  53]]\n",
      "\n",
      " [[ 57  41  28]\n",
      "  [ 58  41  32]\n",
      "  [ 61  42  37]\n",
      "  ...\n",
      "  [ 81  60  62]\n",
      "  [ 84  59  63]\n",
      "  [ 79  52  56]]]\n"
     ]
    },
    {
     "data": {
      "text/plain": [
       "32"
      ]
     },
     "execution_count": 14,
     "metadata": {},
     "output_type": "execute_result"
    }
   ],
   "source": [
    "left_bottom_square = img[-200:, :200]\n",
    "print(left_bottom_square)\n",
    "cv2.imshow(window_name, left_bottom_square)\n",
    "cv2.waitKey(0)"
   ]
  },
  {
   "cell_type": "code",
   "execution_count": 15,
   "metadata": {},
   "outputs": [
    {
     "name": "stdout",
     "output_type": "stream",
     "text": [
      "[[[114 200 254]\n",
      "  [115 201 255]\n",
      "  [114 200 254]\n",
      "  ...\n",
      "  [ 90 144 199]\n",
      "  [ 92 146 201]\n",
      "  [ 92 146 201]]\n",
      "\n",
      " [[113 198 254]\n",
      "  [112 197 253]\n",
      "  [112 197 253]\n",
      "  ...\n",
      "  [ 89 142 199]\n",
      "  [ 89 142 199]\n",
      "  [ 90 141 197]]\n",
      "\n",
      " [[111 196 252]\n",
      "  [111 196 252]\n",
      "  [111 196 252]\n",
      "  ...\n",
      "  [ 91 141 199]\n",
      "  [ 91 141 199]\n",
      "  [ 91 141 199]]\n",
      "\n",
      " ...\n",
      "\n",
      " [[ 69  48  33]\n",
      "  [ 77  56  41]\n",
      "  [ 62  41  26]\n",
      "  ...\n",
      "  [ 54  48  37]\n",
      "  [ 49  43  36]\n",
      "  [ 42  37  34]]\n",
      "\n",
      " [[ 84  63  48]\n",
      "  [ 91  70  55]\n",
      "  [ 77  57  40]\n",
      "  ...\n",
      "  [ 48  39  30]\n",
      "  [ 49  40  36]\n",
      "  [ 59  54  53]]\n",
      "\n",
      " [[ 93  72  57]\n",
      "  [103  83  66]\n",
      "  [109  89  72]\n",
      "  ...\n",
      "  [ 64  50  44]\n",
      "  [ 64  52  50]\n",
      "  [ 54  46  47]]]\n"
     ]
    },
    {
     "data": {
      "text/plain": [
       "32"
      ]
     },
     "execution_count": 15,
     "metadata": {},
     "output_type": "execute_result"
    }
   ],
   "source": [
    "right_bottom_square = img[-200:, -200:]\n",
    "print(right_bottom_square)\n",
    "cv2.imshow(window_name, right_bottom_square)\n",
    "cv2.waitKey(0)"
   ]
  },
  {
   "cell_type": "markdown",
   "metadata": {},
   "source": [
    "### Zmiana rozmiaru obrazu"
   ]
  },
  {
   "cell_type": "code",
   "execution_count": 9,
   "metadata": {},
   "outputs": [],
   "source": [
    "import imutils"
   ]
  },
  {
   "cell_type": "code",
   "execution_count": 18,
   "metadata": {},
   "outputs": [
    {
     "data": {
      "text/plain": [
       "(480, 586, 3)"
      ]
     },
     "execution_count": 18,
     "metadata": {},
     "output_type": "execute_result"
    }
   ],
   "source": [
    "img = cv2.imread('bear.jpg')\n",
    "img.shape"
   ]
  },
  {
   "cell_type": "code",
   "execution_count": 19,
   "metadata": {},
   "outputs": [
    {
     "data": {
      "text/plain": [
       "(245, 300, 3)"
      ]
     },
     "execution_count": 19,
     "metadata": {},
     "output_type": "execute_result"
    }
   ],
   "source": [
    "img_resized = imutils.resize(image=img, width=300, height=300)\n",
    "img_resized.shape"
   ]
  },
  {
   "cell_type": "markdown",
   "metadata": {},
   "source": [
    "### Detekcja krawędzi"
   ]
  },
  {
   "cell_type": "code",
   "execution_count": 20,
   "metadata": {},
   "outputs": [
    {
     "data": {
      "text/plain": [
       "32"
      ]
     },
     "execution_count": 20,
     "metadata": {},
     "output_type": "execute_result"
    }
   ],
   "source": [
    "cv2.imshow(window_name, cv2.Laplacian(src=img, ddepth=cv2.CV_64F))\n",
    "cv2.waitKey(0)"
   ]
  },
  {
   "cell_type": "code",
   "execution_count": 21,
   "metadata": {},
   "outputs": [
    {
     "data": {
      "text/plain": [
       "32"
      ]
     },
     "execution_count": 21,
     "metadata": {},
     "output_type": "execute_result"
    }
   ],
   "source": [
    "cv2.imshow(window_name, cv2.Canny(image=img, threshold1=200, threshold2=200))\n",
    "cv2.waitKey(0)"
   ]
  },
  {
   "cell_type": "markdown",
   "metadata": {},
   "source": [
    "### Rysowanie po obrazie"
   ]
  },
  {
   "cell_type": "code",
   "execution_count": null,
   "metadata": {},
   "outputs": [],
   "source": [
    "cv2.imshow(window_name, cv2.rectangle(img=img.copy(), pt1=(75, 80), pt2=(180, 200), \n",
    "                                      color=(0, 0, 255), thickness=2))\n",
    "cv2.waitKey(0)"
   ]
  },
  {
   "cell_type": "code",
   "execution_count": null,
   "metadata": {},
   "outputs": [],
   "source": [
    "cv2.imshow(window_name, cv2.rectangle(img=img.copy(), pt1=(140, 250), pt2=(350, 470), \n",
    "                                      color=(0, 0, 255), thickness=2))\n",
    "cv2.waitKey(0)"
   ]
  },
  {
   "cell_type": "code",
   "execution_count": null,
   "metadata": {},
   "outputs": [],
   "source": [
    "cv2.imshow(window_name, cv2.circle(img=img.copy(), center=(300, 300), radius=30, \n",
    "                                   color=(255, 0, 0), thickness=-1))\n",
    "cv2.waitKey(0)"
   ]
  },
  {
   "cell_type": "code",
   "execution_count": null,
   "metadata": {},
   "outputs": [],
   "source": [
    "cv2.imshow(window_name, cv2.Canny(image=img, threshold1=200, threshold2=200))\n",
    "cv2.waitKey(0)"
   ]
  },
  {
   "cell_type": "code",
   "execution_count": null,
   "metadata": {},
   "outputs": [],
   "source": [
    "cv2.imshow(window_name, cv2.Canny(image=img, threshold1=200, threshold2=200))\n",
    "cv2.waitKey(0)"
   ]
  },
  {
   "cell_type": "code",
   "execution_count": null,
   "metadata": {},
   "outputs": [],
   "source": [
    "cv2.destroyAllWindows()"
   ]
  }
 ],
 "metadata": {
  "kernelspec": {
   "display_name": "Python 3",
   "language": "python",
   "name": "python3"
  },
  "language_info": {
   "codemirror_mode": {
    "name": "ipython",
    "version": 3
   },
   "file_extension": ".py",
   "mimetype": "text/x-python",
   "name": "python",
   "nbconvert_exporter": "python",
   "pygments_lexer": "ipython3",
   "version": "3.7.7"
  }
 },
 "nbformat": 4,
 "nbformat_minor": 4
}
