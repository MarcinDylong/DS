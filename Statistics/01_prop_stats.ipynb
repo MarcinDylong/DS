{
 "cells": [
  {
   "cell_type": "markdown",
   "metadata": {},
   "source": [
    "## Statistics basics"
   ]
  },
  {
   "cell_type": "markdown",
   "metadata": {},
   "source": [
    "### Wprowadzenie\n",
    "Rozważmy populację składającą się dokładnie z $n$ elementów. Oznaczmy przez $X$ badaną cechę populacji oraz przez $x_1, \\dots, x_n$ wartości cechy $X$. Cechę $X$ nazwyać będziemy zmienną losową.\n",
    "\n",
    "---\n",
    "**Przykład 1 - dane dyskretne**  \n",
    "Populacja - grupa studentów (5 osób)  \n",
    "Badana cecha $X$- ocena z egzaminu  \n",
    "Realizacja zmiennej: 3, 4.5, 5, 4.5, 3  "
   ]
  },
  {
   "cell_type": "code",
   "execution_count": 4,
   "metadata": {},
   "outputs": [
    {
     "name": "stdout",
     "output_type": "stream",
     "text": [
      "[3.  4.5 5.  4.5 3. ]\n"
     ]
    }
   ],
   "source": [
    "import numpy as np\n",
    "\n",
    "X = np.array([3,4.5,5,4.5,3])\n",
    "print(X)"
   ]
  },
  {
   "cell_type": "markdown",
   "metadata": {},
   "source": [
    "  **Przykład 2 - dane ciągłe**  \n",
    "Populacja - grupa studentów (5 osób)  \n",
    "Badana cecha $X$- wzrost studenta  \n",
    "Realizacja zmiennej: 185.0, 179.5, 168.0, 192.0, 185.5 "
   ]
  },
  {
   "cell_type": "code",
   "execution_count": 6,
   "metadata": {},
   "outputs": [
    {
     "name": "stdout",
     "output_type": "stream",
     "text": [
      "[185.  179.5 168.  192.  185.5]\n"
     ]
    }
   ],
   "source": [
    "X = np.array([185.0, 179.5, 168.0, 192.0, 185.5])\n",
    "print(X)"
   ]
  },
  {
   "cell_type": "markdown",
   "metadata": {},
   "source": [
    "### <a name='2'></a> Statystyka opisowa - miary tendencji centralnej\n",
    "\n",
    "**DEFINICJA 1.**\n",
    "Średnią arytmetyczną ciągu wartości $x_1, \\dots, x_n$ nazwyamy:\n",
    "$$\\bar{x}= \\frac{x_{1} + x_{2} + \\ \\ldots \\ + x_{n}}{n} = \\frac{1}{n} \\sum_{i=1}^{n} x_{i}$$  \n",
    "\n",
    "**PRZYKŁAD 2.**\n",
    "Rozważmy ciąg: $3, 4.5, 5, 4.5, 3$\n",
    "$$\\bar{x}=\\frac{3 + 4.5 + 5 + 4.5 + 3}{5} = 4.0$$"
   ]
  },
  {
   "cell_type": "code",
   "execution_count": 7,
   "metadata": {},
   "outputs": [
    {
     "data": {
      "text/plain": [
       "4.0"
      ]
     },
     "execution_count": 7,
     "metadata": {},
     "output_type": "execute_result"
    }
   ],
   "source": [
    "X = np.array([3, 4.5, 5, 4.5, 3])\n",
    "X.mean()"
   ]
  },
  {
   "cell_type": "markdown",
   "metadata": {},
   "source": [
    "**DEFINICJA 3.**\n",
    "Medianą ciągu wartości $x_1, \\dots, x_n$ nazywamy środkowy wyraz tego ciągu, gdy $n$ jest liczbą nieparzystą, w przeciwnym przypadku średnią arytmetyczną dwóch wyrazów środkowych.\n",
    "\n",
    "$Mediana = Me = \\left\\{\\begin{array} {lll} x_{(k+1)} &  \\hbox{ dla } & n=2k+1 \\\\[1mm] \\frac{x_{(k)}+x_{(k+1)}}{2} & \\hbox{ dla } & n=2k. \\end{array} \\right.$,\n",
    "gdzie $x_{(1)} \\le x_{(2)} \\le  \\dots \\le x_{(n)}.$  \n",
    "\n",
    "**PRZYKŁAD 4.**\n",
    "Rozważmy ciąg: $3, 4.5, 5, 4.5, 3$  \n",
    "Porządkujemy ciąg: $3, 3, 4.5, 4.5, 5$  \n",
    "Ponieważ liczba elementów (=5) jest liczbą nieparzystą wybieramy środkowy wyraz tego ciągu czyli:\n",
    "$$Mediana = 4.5$$"
   ]
  },
  {
   "cell_type": "code",
   "execution_count": 8,
   "metadata": {},
   "outputs": [
    {
     "data": {
      "text/plain": [
       "4.5"
      ]
     },
     "execution_count": 8,
     "metadata": {},
     "output_type": "execute_result"
    }
   ],
   "source": [
    "X = np.array([3, 4.5, 5, 4.5, 3])\n",
    "np.median(X)"
   ]
  },
  {
   "cell_type": "markdown",
   "metadata": {},
   "source": [
    "**PRZYKŁAD 5.** \n",
    "Rozważmy ciąg: $5, 4.5, 3, 5$  \n",
    "Porządkujemy ciąg: $3, 4.5, 5, 5$  \n",
    "Ponieważ liczba elementów (=4) jest liczbą parzystą obliczamy średnią arytmetyczną wyrazów środkowych:\n",
    "$$Mediana = \\frac{4.5 + 5}{2} = 4.75$$\n",
    "\n",
    "**DEFINICJA 6.**\n",
    "Moda (wartość modalna) to najczęściej występująca wartość w ciągu.\n",
    "\n",
    "**PRZYKŁAD 7.**\n",
    "Rozważmy ciąg: $3, 4.5, 5, 4.5, 2$\n",
    "$$Moda = 4.5$$ \n"
   ]
  },
  {
   "cell_type": "markdown",
   "metadata": {},
   "source": [
    "### <a name='3'></a> Statystyka opisowa - miary rozrzutu\n",
    "**DEFINICJA 8.**\n",
    "**Średni błąd** ciągu wartości $x_1, \\dots, x_n$ nazywamy wartość:\n",
    "$$b=\\frac{1}{n} \\sum_{i=1}^{n} | x_{i}-\\bar{x} |$$\n",
    "\n",
    "Im mniejszy jest średni błąd tym zmienna $X$ ma mniejszy rozrzut.\n",
    "\n",
    "**PRZYKŁAD 9.**\n",
    "Rozważmy zmienną losową $X$ o realizacji $3.5, 4.0, 4.0$ oraz zmienną losową $Y$ o realizacji $2.0, 4.0, 5.0$.\n",
    "\n",
    "Policzmy średni błąd.  \n",
    "$\\bar{X} = \\frac{3.5 + 4.0 + 4.0}{3} = 3.83$  \n",
    "$\\bar{Y} = \\frac{2.0 + 4.0 + 5.0}{3} = 3.67$\n",
    "\n",
    "Zatem  \n",
    "$b_X = \\frac{1}{3}(|3.5 - 3.83| + |4.0 - 3.83| + |4.0 - 3.83|) = $\n"
   ]
  },
  {
   "cell_type": "code",
   "execution_count": 10,
   "metadata": {},
   "outputs": [
    {
     "name": "stdout",
     "output_type": "stream",
     "text": [
      "X_mean: 3.8333\n",
      "Y_mean: 3.6667\n"
     ]
    }
   ],
   "source": [
    "X = np.array([3.5,4,4])\n",
    "Y = np.array([2.0,4.0,5.0])\n",
    "\n",
    "X_mean = np.mean(X)\n",
    "Y_mean = np.mean(Y)\n",
    "\n",
    "print(f'X_mean: {X_mean:.4f}')\n",
    "print(f'Y_mean: {Y_mean:.4f}')\n"
   ]
  },
  {
   "cell_type": "code",
   "execution_count": 11,
   "metadata": {},
   "outputs": [
    {
     "name": "stdout",
     "output_type": "stream",
     "text": [
      "Średni błąd X: 0.2222\n",
      "Średni błąd Y: 1.1111\n"
     ]
    }
   ],
   "source": [
    "b_X = 1/len(X) * (abs(X-X_mean).sum())\n",
    "b_Y = 1/len(Y) * (abs(Y-Y_mean).sum())\n",
    "\n",
    "print(f'Średni błąd X: {b_X:.4f}')\n",
    "print(f'Średni błąd Y: {b_Y:.4f}')"
   ]
  },
  {
   "cell_type": "markdown",
   "metadata": {},
   "source": [
    "**DEFINICJA 10.**\n",
    "Wariancją ciągu $x_1, \\dots, x_n$ nazywamy wartość:\n",
    "\n",
    "$$s_{n}^{2} = \\frac{1}{n} \\sum_{i=1}^{n} ( x_{i}-\\bar{x})^{2}$$  \n",
    "\n",
    "**DEFINICJA 11.**\n",
    "Odchyleniem standardowym ciągu $x_1, \\dots, x_n$ nazywamy wartość:\n",
    "\n",
    "$$s_n = \\sqrt{\\frac{1}{n} \\sum_{i=1}^{n} ( x_{i}-\\bar{x})^{2}}.$$"
   ]
  },
  {
   "cell_type": "code",
   "execution_count": 17,
   "metadata": {},
   "outputs": [
    {
     "name": "stdout",
     "output_type": "stream",
     "text": [
      "Wariancja zmiennej X: 0.0556\n",
      "Wariancja zmiennej Y: 1.5556\n",
      "Odchylenie standardowe zmiennej X: 0.2357\n",
      "Odchylenie standardowe zmiennej Y: 1.2472\n"
     ]
    }
   ],
   "source": [
    "var_X = 1/len(X) * (((X-X_mean)**2).sum())\n",
    "var_Y = 1/len(Y) * (((Y-Y_mean)**2).sum())\n",
    "\n",
    "print(f'Wariancja zmiennej X: {var_X:.4f}')\n",
    "print(f'Wariancja zmiennej Y: {var_Y:.4f}')\n",
    "\n",
    "std_X = np.sqrt(var_X)\n",
    "std_Y = np.sqrt(var_Y)\n",
    "\n",
    "print(f'Odchylenie standardowe zmiennej X: {std_X:.4f}')\n",
    "print(f'Odchylenie standardowe zmiennej Y: {std_Y:.4f}')"
   ]
  },
  {
   "cell_type": "markdown",
   "metadata": {},
   "source": [
    "### <a name='4'></a> Dystrybuanta empiryczna\n",
    "**DEFINICJA 12.**\n",
    "Kwantylem rzędu $p$ zmiennej losowej $X$ nazywamy wartość, która dzieli uporządkowany ciąg wartości $x_1, \\dots, x_n$ na dwie części w proporcjach $p$ oraz $1-p$. \n",
    "\n",
    "**PRZYKŁAD 13.**\n",
    "Mediana jest kwantylem rzędu $p=\\frac{1}{2}$.\n",
    "\n",
    "**DEFINICJA 14.**\n",
    "Dystrybuantą empiryczną ciągu  $x_1, \\dots, x_n$ nazywamy funkcję określoną wzorem:\n",
    "$$F(x)=\\frac{ \\# \\{x_{i}: \\ x_{i} \\leq x \\} }{n} \\;\\; \\textrm{dla}\\;\\; x\\in {\\Bbb R}$$\n",
    "\n",
    "Przy pomocy dystrybuanty możemy w prosty sposób określić wzór na kwantyl rzędu $p$:\n",
    "\n",
    "$$q_p = \\min \\{ x : F(x) \\ge p \\}$$"
   ]
  },
  {
   "cell_type": "markdown",
   "metadata": {},
   "source": [
    "### <a name='5'></a> Przestrzeń probabilistyczna\n",
    "**DEFINICJA 15.**\n",
    "Przestrzenią probabilistyczną nazywamy trójkę $(\\Omega, \\mathscr{F}, P)$, gdzie $\\Omega$ jest zbiorem niepustym (przestrzeń zdarzeń), $\\mathscr{F}$ jest rodziną podzbiorów zbioru $\\Omega$ (sigma ciało) oraz $P$ jest miarą probabilistyczną (prawdopodobieństwo):\n",
    "$$P:\\mathscr{F} \\rightarrow R$$\n",
    "\n",
    "Elementy zbioru $\\Omega$ nazywamy zdarzeniami elementarnymi, elementy $\\mathscr{F}$ zdarzeniami. Zbiór pusty reprezentuje zdarzenie niemożliwe, zaś zbiór $\\Omega$ zdarzenie pewne. Zdarzenie $\\Omega \\backslash A$ nazywamy zdarzeniem przeciwnym do zdarzenia $A$ i wreszcie liczbę $P(A)$ nazywamy prawdopodobieństwem zdarzenia A."
   ]
  },
  {
   "cell_type": "markdown",
   "metadata": {},
   "source": [
    "### <a name='6'></a> Przestrzeń klasyczna\n",
    "\n",
    "Niech $\\Omega$ będzie zbiorem skończonym składającym się z $n$ jednakowo prawdopodobnych zdarzeń elementarnych:\n",
    "$$\\Omega = \\{\\omega_1, \\dots, \\omega_n\\}$$\n",
    "oraz niech $\\mathscr{F}$ rodzina podzbiorów zbioru $\\Omega$. Jeśli $A \\in \\mathscr{F}$, to:\n",
    "$$P(A) = \\frac{\\#A}{n}$$\n",
    "\n",
    "**PRZYKŁAD 16.**\n",
    "Niech $\\Omega = \\{1, 2, 3, 4, 5, 6\\}$, $A$ oznacza zdarzenie polegające na wyrzuceniu liczby parzystej, mamy zatem   \n",
    "$n=6$  \n",
    "$A=\\{2, 4, 6\\}$   \n",
    "oraz $\\#A = 3$  \n",
    "Stąd $P(A) = \\frac{\\#A}{n} = \\frac{3}{6} = \\frac{1}{2}$\n",
    "\n"
   ]
  },
  {
   "cell_type": "code",
   "execution_count": 18,
   "metadata": {},
   "outputs": [
    {
     "name": "stdout",
     "output_type": "stream",
     "text": [
      "Zbiór A: {2, 4, 6}\n",
      "Prawdopodobieństwo zdarzenia A: 0.5\n"
     ]
    }
   ],
   "source": [
    "omega = {1, 2, 3, 4, 5, 6}\n",
    "A = {item for item in omega if item % 2 == 0}\n",
    "\n",
    "P_A = len(A) / len(omega)\n",
    "print(f'Zbiór A: {A}')\n",
    "print(f'Prawdopodobieństwo zdarzenia A: {P_A}')"
   ]
  },
  {
   "cell_type": "markdown",
   "metadata": {},
   "source": [
    "**PRZYKŁAD 17.**\n",
    "Niech $\\Omega = \\{1, 2, 3, 4, 5, 6\\}$, $B$ oznacza zdarzenie polegające na wyrzuceniu liczby większej niż 4, mamy zatem   \n",
    "$n=6$  \n",
    "$B=\\{5, 6\\}$   \n",
    "oraz $\\#B = 2$  \n",
    "Stąd $P(B) = \\frac{\\#A}{n} = \\frac{2}{6} = \\frac{1}{3}$"
   ]
  },
  {
   "cell_type": "code",
   "execution_count": 19,
   "metadata": {},
   "outputs": [
    {
     "name": "stdout",
     "output_type": "stream",
     "text": [
      "Zbiór B: {5, 6}\n",
      "Prawdopodobieństwo zdarzenia B: 0.3333\n"
     ]
    }
   ],
   "source": [
    "omega = {1, 2, 3, 4, 5, 6}\n",
    "B = {item for item in omega if item > 4}\n",
    "\n",
    "P_B = len(B) / len(omega)\n",
    "print(f'Zbiór B: {B}')\n",
    "print(f'Prawdopodobieństwo zdarzenia B: {P_B:.4f}')"
   ]
  },
  {
   "cell_type": "markdown",
   "metadata": {},
   "source": [
    "### <a name='7'></a> Niezależność zdarzeń\n",
    "\n",
    "**DEFINICJA 18.**\n",
    " Dwa zdarzenia $A$ i $B$ są niezależne, gdy:\n",
    "$$P(A\\cap B) = P(A)\\cdot  P(B)$$\n",
    "\n",
    "**PRZYKŁAD 17.**\n",
    "Rozważmy dwa zdarzenia $A$ i $B$ z poprzednich przykładów."
   ]
  },
  {
   "cell_type": "code",
   "execution_count": 25,
   "metadata": {},
   "outputs": [
    {
     "name": "stdout",
     "output_type": "stream",
     "text": [
      "Przecięcie zbiorów A i B {6}\n",
      "\n",
      "Iloczyn prawdopodobieństwa zdarzeń A i B 0.1667\n",
      "\n",
      "Prawdopodobieństwo iloczynu zdarzeń A i B 0.1667\n",
      "\n",
      "Zdarzenia niezależne\n"
     ]
    }
   ],
   "source": [
    "intersection_AB = set.intersection(A, B)\n",
    "P_intersection_AB = len(intersection_AB) / len(omega)\n",
    "\n",
    "PA_PB = P_A * P_B\n",
    "\n",
    "print(f'Przecięcie zbiorów A i B {intersection_AB}\\n')\n",
    "print(f'Iloczyn prawdopodobieństwa zdarzeń A i B {PA_PB:.4f}\\n')\n",
    "print(f'Prawdopodobieństwo iloczynu zdarzeń A i B {P_intersection_AB:.4f}\\n')\n",
    "\n",
    "check = 'Zdarzenia niezależne' if PA_PB == P_intersection_AB else 'Zdarzenia zależne'\n",
    "print(check)"
   ]
  },
  {
   "cell_type": "markdown",
   "metadata": {},
   "source": [
    "Rozważmy zdarzenie $C$ - wyrzucenie liczby oczek większą niż 1"
   ]
  },
  {
   "cell_type": "code",
   "execution_count": 23,
   "metadata": {},
   "outputs": [
    {
     "name": "stdout",
     "output_type": "stream",
     "text": [
      "Zbiór C: {2, 3, 4, 5, 6}\n",
      "Prawdopodobieństwo zdarzenia C: 0.8333\n",
      "\n",
      "Przecięcie zbiorów A i C: {2, 4, 6}\n",
      "Iloczyn prawdopodobieństw zdarzeń A i C: 0.4167\n",
      "Prawdopodobieństwo iloczynu zdarzeń A i C: 0.5000\n",
      "\n",
      "Zdarzenia zależne\n"
     ]
    }
   ],
   "source": [
    "C = {item for item in omega if item > 1}\n",
    "\n",
    "P_C = len(C) / len(omega)\n",
    "print(f'Zbiór C: {C}')\n",
    "print(f'Prawdopodobieństwo zdarzenia C: {P_C:.4f}\\n')\n",
    "\n",
    "intersection_AC = set.intersection(A, C)\n",
    "P_intersection_AC = len(intersection_AC) / len(omega)\n",
    "\n",
    "PA_PC = P_A * P_C\n",
    "\n",
    "print(f'Przecięcie zbiorów A i C: {intersection_AC}')\n",
    "print(f'Iloczyn prawdopodobieństw zdarzeń A i C: {PA_PC:.4f}')\n",
    "print(f'Prawdopodobieństwo iloczynu zdarzeń A i C: {P_intersection_AC:.4f}\\n')\n",
    "\n",
    "check = 'Zdarzenia niezależne' if PA_PC == P_intersection_AC else 'Zdarzenia zależne'\n",
    "print(check)"
   ]
  },
  {
   "cell_type": "markdown",
   "metadata": {},
   "source": [
    "###  <a name='8'></a> Prawdopodobieństwo warunkowe\n",
    "Prawdopodobieństwem warunkowym zdarzenia $A$ pod warunkiem zajścia zdarzenia $B$ przy zał. $P(B) > 0$ nazywamy:\n",
    "$$P(A|B) = \\frac{P(A\\cap B)}{P(B)}.$$"
   ]
  },
  {
   "cell_type": "code",
   "execution_count": 26,
   "metadata": {},
   "outputs": [
    {
     "name": "stdout",
     "output_type": "stream",
     "text": [
      "A: {2, 4, 6}\n",
      "B: {5, 6}\n",
      "Przecięcie A i B: {6}\n"
     ]
    }
   ],
   "source": [
    "print(f'A: {A}')\n",
    "print(f'B: {B}')\n",
    "print(f'Przecięcie A i B: {intersection_AB}')"
   ]
  },
  {
   "cell_type": "code",
   "execution_count": 29,
   "metadata": {},
   "outputs": [
    {
     "name": "stdout",
     "output_type": "stream",
     "text": [
      "Prawdopodobieństwo wyloswania liczby parzystej pod warunkiem,że wylosowaliśme liczbę większą niż 4 wynosi: 0.5\n"
     ]
    }
   ],
   "source": [
    "PA_cond_B = P_intersection_AB / P_B\n",
    "print(f'Prawdopodobieństwo wyloswania liczby parzystej pod warunkiem,'\n",
    "      f'że wylosowaliśme liczbę większą niż 4 wynosi: {PA_cond_B}')"
   ]
  },
  {
   "cell_type": "markdown",
   "metadata": {},
   "source": [
    "### <a name='9'> </a> Zmienna Losowa"
   ]
  },
  {
   "cell_type": "markdown",
   "metadata": {},
   "source": [
    "### Dystrybuanta\n",
    "\n",
    "Niech $X$ będzie zmienną losową z przestrzeni $R^n$. Niech $F(x)$ oznacza dystrybuantę zmiennej losowej $X$, tzn.\n",
    "$$F(x) = P(X \\leq x)$$  \n",
    "Jeśli dystrybuanta jest funkcją ciągłą to funkcja określona wzorem\n",
    "$$f(x) = \\frac{dF(x)}{dx} = F'(x)$$  \n",
    "jest nazywana **gęstością rozkładu** zmiennej losowej $X$.  \n",
    "Stąd mamy $$P(a < X \\leq b) = \\int_a^bf(x)\\ dx$$"
   ]
  },
  {
   "cell_type": "markdown",
   "metadata": {},
   "source": [
    "### Wartość oczekiwana\n",
    "Wartością oczekiwaną zmiennej losowej ciągłej nazywamy wartość:\n",
    "$$E(X) = \\int_{-\\infty}^{\\infty}x \\cdot f(x)\\ dx$$\n",
    "\n",
    "Wartością oczekiwaną zmiennej losowej dyskretnej nazywamy wartość:\n",
    "$$E(X) = \\sum_{i=1}^{n}x_i \\cdot P(X=x_i)$$\n",
    "\n",
    "Dla klasycznej przestrzeni probabilistycznej, gdzie każde zdarzenie ma jednakowe prawdopodobieństwo zajścia otrzymujemy klasyczny wzór:\n",
    "$$E(X) = \\frac{1}{n}\\sum_{i=1}^{n}x_{i}$$"
   ]
  },
  {
   "cell_type": "markdown",
   "metadata": {},
   "source": [
    "### Wariancja\n",
    "Warjancją zmiennej losowej nazywamy wartość:\n",
    "$$Var(X) = E(X-E(X))^2 = E(X^2) - (E(X))^2$$\n",
    "\n",
    "Stąd wariancja zmiennej losowej ciągłęj ma postać:\n",
    "$$Var(X) = D^2(X) = \\int_{-\\infty}^{\\infty}(x - E(X))^2 \\cdot f(x)\\ dx$$"
   ]
  },
  {
   "cell_type": "markdown",
   "metadata": {},
   "source": [
    "### Odchylenie Standardowe\n",
    "Odchyleniem standardowym nazywamy pierwiastek z wariancji, tj.\n",
    "$$\\sigma(X) = \\sqrt{D^2(X)}$$"
   ]
  },
  {
   "cell_type": "markdown",
   "metadata": {},
   "source": [
    "### Korelacja\n",
    "$$Cor(X, Y) = \\frac{Cov(X, Y)}{\\sigma(X)\\cdot \\sigma(Y)}$$"
   ]
  },
  {
   "cell_type": "markdown",
   "metadata": {},
   "source": [
    "### Błąd standardowy\n",
    "$$SE(X) = \\frac{\\sigma(X)}{\\sqrt(n)}$$"
   ]
  },
  {
   "cell_type": "markdown",
   "metadata": {},
   "source": [
    "### Przykład 1\n",
    "\n",
    "| $X$        | 0   | 1   | 2    | 3    |\n",
    "|----------|-----|-----|------|------|\n",
    "| $P(X=x_i)$ | 0.5 | 0.3 | 0.15 | 0.05 |\n",
    "\n",
    "$E(X) = 0 \\cdot 0.5 + 1 \\cdot 0.3 + 2 \\cdot 0.15 + 3 \\cdot 0.05$"
   ]
  },
  {
   "cell_type": "code",
   "execution_count": 30,
   "metadata": {},
   "outputs": [
    {
     "data": {
      "text/plain": [
       "0.75"
      ]
     },
     "execution_count": 30,
     "metadata": {},
     "output_type": "execute_result"
    }
   ],
   "source": [
    "EX = 0 * 0.5 + 1 * 0.3 + 2 * 0.15 + 3 * 0.05\n",
    "EX"
   ]
  },
  {
   "cell_type": "code",
   "execution_count": 32,
   "metadata": {},
   "outputs": [
    {
     "data": {
      "text/plain": [
       "0.7875"
      ]
     },
     "execution_count": 32,
     "metadata": {},
     "output_type": "execute_result"
    }
   ],
   "source": [
    "VAR_X = (0 - EX)**2 * 0.5 + (1 - EX)**2 * 0.3 + (2 - EX)**2 * 0.15 + (3 - EX)**2 * 0.05\n",
    "round(VAR_X,4)"
   ]
  },
  {
   "cell_type": "code",
   "execution_count": 33,
   "metadata": {},
   "outputs": [
    {
     "data": {
      "text/plain": [
       "0.8874119674649424"
      ]
     },
     "execution_count": 33,
     "metadata": {},
     "output_type": "execute_result"
    }
   ],
   "source": [
    "import numpy as np\n",
    "\n",
    "STD_X = np.sqrt(VAR_X)\n",
    "STD_X"
   ]
  },
  {
   "cell_type": "code",
   "execution_count": 34,
   "metadata": {},
   "outputs": [
    {
     "name": "stdout",
     "output_type": "stream",
     "text": [
      "[ 0.76001561 -0.92407826  0.0523736   0.0183164   2.0952189 ] \n",
      "\n",
      "[ 0.85661989  0.64220406  1.45292981 -1.1602306  -1.04296878]\n"
     ]
    }
   ],
   "source": [
    "x = np.random.randn(5)\n",
    "y = np.random.randn(5)\n",
    "\n",
    "print(x,'\\n')\n",
    "print(y)"
   ]
  },
  {
   "cell_type": "code",
   "execution_count": 35,
   "metadata": {},
   "outputs": [
    {
     "data": {
      "text/plain": [
       "0.40036925045701127"
      ]
     },
     "execution_count": 35,
     "metadata": {},
     "output_type": "execute_result"
    }
   ],
   "source": [
    "x.mean()"
   ]
  },
  {
   "cell_type": "code",
   "execution_count": 36,
   "metadata": {},
   "outputs": [
    {
     "data": {
      "text/plain": [
       "1.002306081513054"
      ]
     },
     "execution_count": 36,
     "metadata": {},
     "output_type": "execute_result"
    }
   ],
   "source": [
    "x.std()"
   ]
  },
  {
   "cell_type": "code",
   "execution_count": 37,
   "metadata": {},
   "outputs": [
    {
     "data": {
      "text/plain": [
       "array([[ 1.        , -0.44816748],\n",
       "       [-0.44816748,  1.        ]])"
      ]
     },
     "execution_count": 37,
     "metadata": {},
     "output_type": "execute_result"
    }
   ],
   "source": [
    "np.corrcoef(x, y)"
   ]
  },
  {
   "cell_type": "markdown",
   "metadata": {},
   "source": [
    "### Rozkład normalny \n",
    "\n",
    "Rozkład normalny $X \\sim N(\\mu, \\sigma)$"
   ]
  },
  {
   "cell_type": "code",
   "execution_count": 39,
   "metadata": {},
   "outputs": [
    {
     "data": {
      "image/png": "[encoded data removed]",
      "text/plain": [
       "<Figure size 432x288 with 1 Axes>"
      ]
     },
     "metadata": {},
     "output_type": "display_data"
    }
   ],
   "source": [
    "import matplotlib.pyplot as plt\n",
    "import seaborn as sns\n",
    "from scipy.stats import norm\n",
    "sns.set()\n",
    "\n",
    "mu = 0 # średnia\n",
    "sigma = 1 # odchylenie standardowe\n",
    "x = np.linspace(mu - 3 * sigma, mu + 3 * sigma, 100)\n",
    "plt.title('Rozkład normalny - funkcja gęstości')\n",
    "_ = plt.plot(x, norm.pdf(x, mu, sigma))"
   ]
  },
  {
   "cell_type": "code",
   "execution_count": 42,
   "metadata": {},
   "outputs": [
    {
     "data": {
      "text/plain": [
       "<matplotlib.legend.Legend at 0x278c60a0ac8>"
      ]
     },
     "execution_count": 42,
     "metadata": {},
     "output_type": "execute_result"
    },
    {
     "data": {
      "image/png": "[encoded data removed]",
      "text/plain": [
       "<Figure size 576x576 with 1 Axes>"
      ]
     },
     "metadata": {},
     "output_type": "display_data"
    }
   ],
   "source": [
    "x = np.linspace(mu - 3 * sigma, mu + 3 * sigma, 500)\n",
    "params = [(0,1), (0,2), (0, 0.5)]\n",
    "\n",
    "plt.figure(figsize=(8,8))\n",
    "for mu, sigma in params:\n",
    "    plt.plot(x, norm.pdf(x,mu,sigma), label=f'mu={mu}, sigma={sigma}')\n",
    "plt.legend()"
   ]
  },
  {
   "cell_type": "markdown",
   "metadata": {},
   "source": [
    "### Standaryzacja \n",
    "Niech $X \\sim N(\\mu, \\sigma)$. Wówczas\n",
    "$$\\frac{X - \\mu}{\\sigma} \\sim N(0, 1)$$\n",
    "\n",
    "$$E\\left(\\frac{X - \\mu}{\\sigma}\\right) = \\frac{E(X - \\mu)}{\\sigma} = \\frac{E(X) - \\mu}{\\sigma} = \\frac{\\mu - \\mu}{\\sigma} = 0$$\n",
    "\n",
    "$$D^2\\left(\\frac{X - \\mu}{\\sigma}\\right) = \\frac{1}{\\sigma^2}\\cdot D^2\\left(X - \\mu\\right) = \\frac{1}{\\sigma^2} \\cdot D^2(X) = \\frac{1}{\\sigma^2}\\cdot \\sigma^2 = 1$$"
   ]
  },
  {
   "cell_type": "code",
   "execution_count": 44,
   "metadata": {},
   "outputs": [
    {
     "data": {
      "text/plain": [
       "<matplotlib.legend.Legend at 0x278c6049bc8>"
      ]
     },
     "execution_count": 44,
     "metadata": {},
     "output_type": "execute_result"
    },
    {
     "data": {
      "image/png": "[encoded data removed]",
      "text/plain": [
       "<Figure size 432x288 with 1 Axes>"
      ]
     },
     "metadata": {},
     "output_type": "display_data"
    }
   ],
   "source": [
    "mu = 10\n",
    "sigma = 3\n",
    "x = np.linspace(mu - 8 * sigma, mu + 8 * sigma, 500)\n",
    "\n",
    "plt.plot(x, norm.pdf(x,mu,sigma), label=f'mu={mu}, sigma={sigma}')\n",
    "plt.plot(x, norm.pdf(x,mu-mu,sigma), label=f'mu={mu-mu}, sigma={sigma}')\n",
    "plt.plot(x, norm.pdf(x,mu-mu,sigma/sigma), label=f'mu={mu-mu}, sigma={sigma/sigma}')\n",
    "plt.legend()"
   ]
  },
  {
   "cell_type": "markdown",
   "metadata": {},
   "source": [
    "### Wykres dystrybuanty"
   ]
  },
  {
   "cell_type": "code",
   "execution_count": 45,
   "metadata": {},
   "outputs": [
    {
     "data": {
      "image/png": "[encoded data removed]",
      "text/plain": [
       "<Figure size 432x288 with 1 Axes>"
      ]
     },
     "metadata": {},
     "output_type": "display_data"
    }
   ],
   "source": [
    "plt.title('Rozkład normalny - dystrybuanta')\n",
    "_ = plt.plot(x, norm.cdf(x, mu, sigma))"
   ]
  },
  {
   "cell_type": "code",
   "execution_count": 46,
   "metadata": {},
   "outputs": [
    {
     "data": {
      "image/png": "[encoded data removed]",
      "text/plain": [
       "<Figure size 432x288 with 1 Axes>"
      ]
     },
     "metadata": {},
     "output_type": "display_data"
    }
   ],
   "source": [
    "plt.title('Rokład normalny - funkcja przeżycia')\n",
    "_ = plt.plot(x, norm.sf(x, mu, sigma))"
   ]
  },
  {
   "cell_type": "code",
   "execution_count": 47,
   "metadata": {},
   "outputs": [
    {
     "data": {
      "text/plain": [
       "['PearsonRConstantInputWarning',\n",
       " 'PearsonRNearConstantInputWarning',\n",
       " '__all__',\n",
       " '__builtins__',\n",
       " '__cached__',\n",
       " '__doc__',\n",
       " '__file__',\n",
       " '__loader__',\n",
       " '__name__',\n",
       " '__package__',\n",
       " '__path__',\n",
       " '__spec__',\n",
       " '_binned_statistic',\n",
       " '_constants',\n",
       " '_continuous_distns',\n",
       " '_discrete_distns',\n",
       " '_distn_infrastructure',\n",
       " '_distr_params',\n",
       " '_hypotests',\n",
       " '_multivariate',\n",
       " '_rvs_sampling',\n",
       " '_stats',\n",
       " '_stats_mstats_common',\n",
       " '_tukeylambda_stats',\n",
       " 'absolute_import',\n",
       " 'alpha',\n",
       " 'anderson',\n",
       " 'anderson_ksamp',\n",
       " 'anglit',\n",
       " 'ansari',\n",
       " 'arcsine',\n",
       " 'argus',\n",
       " 'bartlett',\n",
       " 'bayes_mvs',\n",
       " 'bernoulli',\n",
       " 'beta',\n",
       " 'betabinom',\n",
       " 'betaprime',\n",
       " 'binned_statistic',\n",
       " 'binned_statistic_2d',\n",
       " 'binned_statistic_dd',\n",
       " 'binom',\n",
       " 'binom_test',\n",
       " 'boltzmann',\n",
       " 'boxcox',\n",
       " 'boxcox_llf',\n",
       " 'boxcox_normmax',\n",
       " 'boxcox_normplot',\n",
       " 'bradford',\n",
       " 'brunnermunzel',\n",
       " 'burr',\n",
       " 'burr12',\n",
       " 'cauchy',\n",
       " 'chi',\n",
       " 'chi2',\n",
       " 'chi2_contingency',\n",
       " 'chisquare',\n",
       " 'circmean',\n",
       " 'circstd',\n",
       " 'circvar',\n",
       " 'combine_pvalues',\n",
       " 'contingency',\n",
       " 'cosine',\n",
       " 'crystalball',\n",
       " 'cumfreq',\n",
       " 'describe',\n",
       " 'dgamma',\n",
       " 'dirichlet',\n",
       " 'distributions',\n",
       " 'division',\n",
       " 'dlaplace',\n",
       " 'dweibull',\n",
       " 'energy_distance',\n",
       " 'entropy',\n",
       " 'epps_singleton_2samp',\n",
       " 'erlang',\n",
       " 'expon',\n",
       " 'exponnorm',\n",
       " 'exponpow',\n",
       " 'exponweib',\n",
       " 'f',\n",
       " 'f_oneway',\n",
       " 'fatiguelife',\n",
       " 'find_repeats',\n",
       " 'fisher_exact',\n",
       " 'fisk',\n",
       " 'fligner',\n",
       " 'foldcauchy',\n",
       " 'foldnorm',\n",
       " 'frechet_l',\n",
       " 'frechet_r',\n",
       " 'friedmanchisquare',\n",
       " 'gamma',\n",
       " 'gausshyper',\n",
       " 'gaussian_kde',\n",
       " 'genexpon',\n",
       " 'genextreme',\n",
       " 'gengamma',\n",
       " 'genhalflogistic',\n",
       " 'geninvgauss',\n",
       " 'genlogistic',\n",
       " 'gennorm',\n",
       " 'genpareto',\n",
       " 'geom',\n",
       " 'gilbrat',\n",
       " 'gmean',\n",
       " 'gompertz',\n",
       " 'gstd',\n",
       " 'gumbel_l',\n",
       " 'gumbel_r',\n",
       " 'halfcauchy',\n",
       " 'halfgennorm',\n",
       " 'halflogistic',\n",
       " 'halfnorm',\n",
       " 'hmean',\n",
       " 'hypergeom',\n",
       " 'hypsecant',\n",
       " 'invgamma',\n",
       " 'invgauss',\n",
       " 'invweibull',\n",
       " 'invwishart',\n",
       " 'iqr',\n",
       " 'itemfreq',\n",
       " 'jarque_bera',\n",
       " 'johnsonsb',\n",
       " 'johnsonsu',\n",
       " 'kappa3',\n",
       " 'kappa4',\n",
       " 'kde',\n",
       " 'kendalltau',\n",
       " 'kruskal',\n",
       " 'ks_2samp',\n",
       " 'ksone',\n",
       " 'kstat',\n",
       " 'kstatvar',\n",
       " 'kstest',\n",
       " 'kstwobign',\n",
       " 'kurtosis',\n",
       " 'kurtosistest',\n",
       " 'laplace',\n",
       " 'levene',\n",
       " 'levy',\n",
       " 'levy_l',\n",
       " 'levy_stable',\n",
       " 'linregress',\n",
       " 'loggamma',\n",
       " 'logistic',\n",
       " 'loglaplace',\n",
       " 'lognorm',\n",
       " 'logser',\n",
       " 'loguniform',\n",
       " 'lomax',\n",
       " 'mannwhitneyu',\n",
       " 'matrix_normal',\n",
       " 'maxwell',\n",
       " 'median_absolute_deviation',\n",
       " 'median_test',\n",
       " 'mielke',\n",
       " 'mode',\n",
       " 'moment',\n",
       " 'mood',\n",
       " 'morestats',\n",
       " 'moyal',\n",
       " 'mstats',\n",
       " 'mstats_basic',\n",
       " 'mstats_extras',\n",
       " 'multinomial',\n",
       " 'multiscale_graphcorr',\n",
       " 'multivariate_normal',\n",
       " 'mvn',\n",
       " 'mvsdist',\n",
       " 'nakagami',\n",
       " 'nbinom',\n",
       " 'ncf',\n",
       " 'nct',\n",
       " 'ncx2',\n",
       " 'norm',\n",
       " 'normaltest',\n",
       " 'norminvgauss',\n",
       " 'obrientransform',\n",
       " 'ortho_group',\n",
       " 'pareto',\n",
       " 'pearson3',\n",
       " 'pearsonr',\n",
       " 'percentileofscore',\n",
       " 'planck',\n",
       " 'pointbiserialr',\n",
       " 'poisson',\n",
       " 'power_divergence',\n",
       " 'powerlaw',\n",
       " 'powerlognorm',\n",
       " 'powernorm',\n",
       " 'ppcc_max',\n",
       " 'ppcc_plot',\n",
       " 'print_function',\n",
       " 'probplot',\n",
       " 'randint',\n",
       " 'random_correlation',\n",
       " 'rankdata',\n",
       " 'ranksums',\n",
       " 'rayleigh',\n",
       " 'rdist',\n",
       " 'recipinvgauss',\n",
       " 'reciprocal',\n",
       " 'relfreq',\n",
       " 'rice',\n",
       " 'rv_continuous',\n",
       " 'rv_discrete',\n",
       " 'rv_histogram',\n",
       " 'rvs_ratio_uniforms',\n",
       " 'scoreatpercentile',\n",
       " 'sem',\n",
       " 'semicircular',\n",
       " 'shapiro',\n",
       " 'siegelslopes',\n",
       " 'sigmaclip',\n",
       " 'skellam',\n",
       " 'skew',\n",
       " 'skewnorm',\n",
       " 'skewtest',\n",
       " 'spearmanr',\n",
       " 'special_ortho_group',\n",
       " 'statlib',\n",
       " 'stats',\n",
       " 't',\n",
       " 'test',\n",
       " 'theilslopes',\n",
       " 'tiecorrect',\n",
       " 'tmax',\n",
       " 'tmean',\n",
       " 'tmin',\n",
       " 'trapz',\n",
       " 'triang',\n",
       " 'trim1',\n",
       " 'trim_mean',\n",
       " 'trimboth',\n",
       " 'truncexpon',\n",
       " 'truncnorm',\n",
       " 'tsem',\n",
       " 'tstd',\n",
       " 'ttest_1samp',\n",
       " 'ttest_ind',\n",
       " 'ttest_ind_from_stats',\n",
       " 'ttest_rel',\n",
       " 'tukeylambda',\n",
       " 'tvar',\n",
       " 'uniform',\n",
       " 'unitary_group',\n",
       " 'variation',\n",
       " 'vonmises',\n",
       " 'vonmises_line',\n",
       " 'wald',\n",
       " 'wasserstein_distance',\n",
       " 'weibull_max',\n",
       " 'weibull_min',\n",
       " 'weightedtau',\n",
       " 'wilcoxon',\n",
       " 'wishart',\n",
       " 'wrapcauchy',\n",
       " 'yeojohnson',\n",
       " 'yeojohnson_llf',\n",
       " 'yeojohnson_normmax',\n",
       " 'yeojohnson_normplot',\n",
       " 'yulesimon',\n",
       " 'zipf',\n",
       " 'zmap',\n",
       " 'zscore']"
      ]
     },
     "execution_count": 47,
     "metadata": {},
     "output_type": "execute_result"
    }
   ],
   "source": [
    "from scipy import stats\n",
    "\n",
    "dir(stats)"
   ]
  },
  {
   "cell_type": "code",
   "execution_count": null,
   "metadata": {},
   "outputs": [],
   "source": []
  }
 ],
 "metadata": {
  "kernelspec": {
   "display_name": "Python 3",
   "language": "python",
   "name": "python3"
  },
  "language_info": {
   "codemirror_mode": {
    "name": "ipython",
    "version": 3
   },
   "file_extension": ".py",
   "mimetype": "text/x-python",
   "name": "python",
   "nbconvert_exporter": "python",
   "pygments_lexer": "ipython3",
   "version": "3.7.7"
  }
 },
 "nbformat": 4,
 "nbformat_minor": 4
}
