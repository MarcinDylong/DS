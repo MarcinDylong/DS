{
 "cells": [
  {
   "cell_type": "code",
   "execution_count": 1,
   "metadata": {},
   "outputs": [
    {
     "name": "stdout",
     "output_type": "stream",
     "text": [
      "Imported the modules.\n"
     ]
    }
   ],
   "source": [
    "import numpy as np\n",
    "import pandas as pd\n",
    "import tensorflow as tf\n",
    "from tensorflow import feature_column\n",
    "from tensorflow.keras import layers\n",
    "\n",
    "from matplotlib import pyplot as plt\n",
    "\n",
    "# The following lines adjust the granularity of reporting.\n",
    "pd.options.display.max_rows = 10\n",
    "pd.options.display.float_format = \"{:.1f}\".format\n",
    "\n",
    "tf.keras.backend.set_floatx('float32')\n",
    "\n",
    "print(\"Imported the modules.\")"
   ]
  },
  {
   "cell_type": "code",
   "execution_count": 2,
   "metadata": {},
   "outputs": [],
   "source": [
    "# Load the dataset\n",
    "train_df = pd.read_csv(\"https://download.mlcc.google.com/mledu-datasets/california_housing_train.csv\")\n",
    "test_df = pd.read_csv(\"https://download.mlcc.google.com/mledu-datasets/california_housing_test.csv\")\n",
    "\n",
    "# Scale the labels\n",
    "scale_factor = 1000.0\n",
    "# Scale the training set's label.\n",
    "train_df[\"median_house_value\"] /= scale_factor \n",
    "\n",
    "# Scale the test set's label\n",
    "test_df[\"median_house_value\"] /= scale_factor\n",
    "\n",
    "# Shuffle the examples\n",
    "train_df = train_df.reindex(np.random.permutation(train_df.index))"
   ]
  },
  {
   "cell_type": "code",
   "execution_count": 6,
   "metadata": {},
   "outputs": [],
   "source": [
    "# Create an empty list that will eventually hold all feature columns.\n",
    "feature_columns = []\n",
    "\n",
    "# Create a numerical feature column to represent latitude.\n",
    "latitude = tf.feature_column.numeric_column(\"latitude\")\n",
    "feature_columns.append(latitude)\n",
    "\n",
    "# Create a numerical feature column to represent longitude.\n",
    "longitude = tf.feature_column.numeric_column(\"longitude\")\n",
    "feature_columns.append(longitude)\n",
    "\n",
    "# Convert the list of feature columns into a layer that will ultimately become\n",
    "# part of the model. Understanding layers is not important right now.\n",
    "fp_feature_layer = layers.DenseFeatures(feature_columns)"
   ]
  },
  {
   "cell_type": "code",
   "execution_count": 9,
   "metadata": {},
   "outputs": [],
   "source": [
    "def create_model(my_learning_rate, feature_layer):\n",
    "    \"\"\"Create and compile a simple linear regression model.\"\"\"\n",
    "    # Most simple tf.keras models are sequential.\n",
    "    model = tf.keras.models.Sequential()\n",
    "\n",
    "    # Add the layer containing the feature columns to the model.\n",
    "    model.add(feature_layer)\n",
    "\n",
    "    # Add one linear layer to the model to yield a simple linear regressor.\n",
    "    model.add(tf.keras.layers.Dense(units=1, input_shape=(1,)))\n",
    "\n",
    "    # Construct the layers into a model that TensorFlow can execute.\n",
    "    model.compile(optimizer=tf.keras.optimizers.RMSprop(lr=my_learning_rate),\n",
    "                loss=\"mean_squared_error\",\n",
    "                metrics=[tf.keras.metrics.RootMeanSquaredError()])\n",
    "\n",
    "    return model           \n",
    "\n",
    "\n",
    "def train_model(model, dataset, epochs, batch_size, label_name):\n",
    "    \"\"\"Feed a dataset into the model in order to train it.\"\"\"\n",
    "\n",
    "    features = {name:np.array(value) for name, value in dataset.items()}\n",
    "    label = np.array(features.pop(label_name))\n",
    "    history = model.fit(x=features, y=label, batch_size=batch_size,\n",
    "                      epochs=epochs, shuffle=True)\n",
    "\n",
    "    # The list of epochs is stored separately from the rest of history.\n",
    "    epochs = history.epoch\n",
    "\n",
    "    # Isolate the mean absolute error for each epoch.\n",
    "    hist = pd.DataFrame(history.history)\n",
    "    rmse = hist[\"root_mean_squared_error\"]\n",
    "\n",
    "    return epochs, rmse   \n",
    "\n",
    "\n",
    "def plot_the_loss_curve(epochs, rmse):\n",
    "    \"\"\"Plot a curve of loss vs. epoch.\"\"\"\n",
    "\n",
    "    plt.figure()\n",
    "    plt.xlabel(\"Epoch\")\n",
    "    plt.ylabel(\"Root Mean Squared Error\")\n",
    "\n",
    "    plt.plot(epochs, rmse, label=\"Loss\")\n",
    "    plt.legend()\n",
    "    plt.ylim([rmse.min()*0.94, rmse.max()* 1.05])\n",
    "    plt.show()  \n",
    "\n",
    "    print(\"Defined the create_model, train_model, and plot_the_loss_curve functions.\")"
   ]
  },
  {
   "cell_type": "code",
   "execution_count": 10,
   "metadata": {},
   "outputs": [
    {
     "name": "stdout",
     "output_type": "stream",
     "text": [
      "Train on 17000 samples\n",
      "Epoch 1/30\n",
      "17000/17000 [==============================] - 1s 32us/sample - loss: 16283.6565 - root_mean_squared_error: 127.6075\n",
      "Epoch 2/30\n",
      "17000/17000 [==============================] - 0s 10us/sample - loss: 13446.4918 - root_mean_squared_error: 115.9590\n",
      "Epoch 3/30\n",
      "17000/17000 [==============================] - 0s 10us/sample - loss: 13389.1272 - root_mean_squared_error: 115.7114\n",
      "Epoch 4/30\n",
      "17000/17000 [==============================] - 0s 11us/sample - loss: 13369.3261 - root_mean_squared_error: 115.6258\n",
      "Epoch 5/30\n",
      "17000/17000 [==============================] - 0s 10us/sample - loss: 13320.0740 - root_mean_squared_error: 115.4126\n",
      "Epoch 6/30\n",
      "17000/17000 [==============================] - 0s 10us/sample - loss: 13272.9849 - root_mean_squared_error: 115.2085\n",
      "Epoch 7/30\n",
      "17000/17000 [==============================] - 0s 10us/sample - loss: 13230.9032 - root_mean_squared_error: 115.0257\n",
      "Epoch 8/30\n",
      "17000/17000 [==============================] - 0s 10us/sample - loss: 13209.1065 - root_mean_squared_error: 114.9309\n",
      "Epoch 9/30\n",
      "17000/17000 [==============================] - 0s 10us/sample - loss: 13159.6424 - root_mean_squared_error: 114.7155\n",
      "Epoch 10/30\n",
      "17000/17000 [==============================] - 0s 10us/sample - loss: 13147.6163 - root_mean_squared_error: 114.6631\n",
      "Epoch 11/30\n",
      "17000/17000 [==============================] - 0s 10us/sample - loss: 13117.0998 - root_mean_squared_error: 114.5299\n",
      "Epoch 12/30\n",
      "17000/17000 [==============================] - 0s 10us/sample - loss: 13090.1652 - root_mean_squared_error: 114.4123\n",
      "Epoch 13/30\n",
      "17000/17000 [==============================] - 0s 11us/sample - loss: 13067.3970 - root_mean_squared_error: 114.3127\n",
      "Epoch 14/30\n",
      "17000/17000 [==============================] - 0s 10us/sample - loss: 13052.8821 - root_mean_squared_error: 114.2492\n",
      "Epoch 15/30\n",
      "17000/17000 [==============================] - 0s 10us/sample - loss: 13015.2921 - root_mean_squared_error: 114.0846\n",
      "Epoch 16/30\n",
      "17000/17000 [==============================] - 0s 10us/sample - loss: 13009.3448 - root_mean_squared_error: 114.0585\n",
      "Epoch 17/30\n",
      "17000/17000 [==============================] - 0s 10us/sample - loss: 12992.6147 - root_mean_squared_error: 113.9852\n",
      "Epoch 18/30\n",
      "17000/17000 [==============================] - 0s 10us/sample - loss: 12966.0400 - root_mean_squared_error: 113.8685\n",
      "Epoch 19/30\n",
      "17000/17000 [==============================] - 0s 10us/sample - loss: 12954.7823 - root_mean_squared_error: 113.8191\n",
      "Epoch 20/30\n",
      "17000/17000 [==============================] - 0s 10us/sample - loss: 12931.0984 - root_mean_squared_error: 113.7150\n",
      "Epoch 21/30\n",
      "17000/17000 [==============================] - 0s 11us/sample - loss: 12933.8989 - root_mean_squared_error: 113.7273\n",
      "Epoch 22/30\n",
      "17000/17000 [==============================] - 0s 11us/sample - loss: 12912.8001 - root_mean_squared_error: 113.6345\n",
      "Epoch 23/30\n",
      "17000/17000 [==============================] - 0s 11us/sample - loss: 12898.9221 - root_mean_squared_error: 113.5734\n",
      "Epoch 24/30\n",
      "17000/17000 [==============================] - ETA: 0s - loss: 12903.5022 - root_mean_squared_error: 113.593 - 0s 11us/sample - loss: 12887.1669 - root_mean_squared_error: 113.5217\n",
      "Epoch 25/30\n",
      "17000/17000 [==============================] - 0s 11us/sample - loss: 12885.3215 - root_mean_squared_error: 113.5135\n",
      "Epoch 26/30\n",
      "17000/17000 [==============================] - 0s 11us/sample - loss: 12888.2784 - root_mean_squared_error: 113.5266 - loss: 12860.1451 - root_mean_squared_error: 113.4\n",
      "Epoch 27/30\n",
      "17000/17000 [==============================] - 0s 10us/sample - loss: 12858.9485 - root_mean_squared_error: 113.3973\n",
      "Epoch 28/30\n",
      "17000/17000 [==============================] - 0s 10us/sample - loss: 12847.8024 - root_mean_squared_error: 113.3481\n",
      "Epoch 29/30\n",
      "17000/17000 [==============================] - 0s 10us/sample - loss: 12852.5171 - root_mean_squared_error: 113.3690\n",
      "Epoch 30/30\n",
      "17000/17000 [==============================] - 0s 11us/sample - loss: 12832.2608 - root_mean_squared_error: 113.2796\n"
     ]
    },
    {
     "data": {
      "image/png": "[encoded data removed]",
      "text/plain": [
       "<Figure size 432x288 with 1 Axes>"
      ]
     },
     "metadata": {
      "needs_background": "light"
     },
     "output_type": "display_data"
    },
    {
     "name": "stdout",
     "output_type": "stream",
     "text": [
      "Defined the create_model, train_model, and plot_the_loss_curve functions.\n",
      "\n",
      ": Evaluate the new model against the test set:\n",
      "3000/3000 [==============================] - 0s 26us/sample - loss: 12179.9767 - root_mean_squared_error: 110.3629\n"
     ]
    },
    {
     "data": {
      "text/plain": [
       "[12179.976725260416, 110.36294]"
      ]
     },
     "execution_count": 10,
     "metadata": {},
     "output_type": "execute_result"
    }
   ],
   "source": [
    "# The following variables are the hyperparameters.\n",
    "learning_rate = 0.05\n",
    "epochs = 30\n",
    "batch_size = 100\n",
    "label_name = 'median_house_value'\n",
    "\n",
    "# Create and compile the model's topography.\n",
    "my_model = create_model(learning_rate, fp_feature_layer)\n",
    "\n",
    "# Train the model on the training set.\n",
    "epochs, rmse = train_model(my_model, train_df, epochs, batch_size, label_name)\n",
    "\n",
    "plot_the_loss_curve(epochs, rmse)\n",
    "\n",
    "print(\"\\n: Evaluate the new model against the test set:\")\n",
    "test_features = {name:np.array(value) for name, value in test_df.items()}\n",
    "test_label = np.array(test_features.pop(label_name))\n",
    "my_model.evaluate(x=test_features, y=test_label, batch_size=batch_size)"
   ]
  },
  {
   "cell_type": "code",
   "execution_count": 11,
   "metadata": {},
   "outputs": [],
   "source": [
    "resolution_in_degrees = 1.0 \n",
    "\n",
    "# Create a new empty list that will eventually hold the generated feature column.\n",
    "feature_columns = []\n",
    "\n",
    "# Create a bucket feature column for latitude.\n",
    "latitude_as_a_numeric_column = tf.feature_column.numeric_column(\"latitude\")\n",
    "latitude_boundaries = list(np.arange(int(min(train_df['latitude'])), \n",
    "                                     int(max(train_df['latitude'])), \n",
    "                                     resolution_in_degrees))\n",
    "latitude = tf.feature_column.bucketized_column(latitude_as_a_numeric_column, \n",
    "                                               latitude_boundaries)\n",
    "feature_columns.append(latitude)\n",
    "\n",
    "# Create a bucket feature column for longitude.\n",
    "longitude_as_a_numeric_column = tf.feature_column.numeric_column(\"longitude\")\n",
    "longitude_boundaries = list(np.arange(int(min(train_df['longitude'])), \n",
    "                                      int(max(train_df['longitude'])), \n",
    "                                      resolution_in_degrees))\n",
    "longitude = tf.feature_column.bucketized_column(longitude_as_a_numeric_column, \n",
    "                                                longitude_boundaries)\n",
    "feature_columns.append(longitude)\n",
    "\n",
    "# Convert the list of feature columns into a layer that will ultimately become\n",
    "# part of the model. Understanding layers is not important right now.\n",
    "buckets_feature_layer = layers.DenseFeatures(feature_columns)"
   ]
  },
  {
   "cell_type": "code",
   "execution_count": 15,
   "metadata": {},
   "outputs": [
    {
     "name": "stdout",
     "output_type": "stream",
     "text": [
      "Train on 17000 samples\n",
      "Epoch 1/35\n",
      "17000/17000 [==============================] - 0s 25us/sample - loss: 52002.8751 - root_mean_squared_error: 228.0414\n",
      "Epoch 2/35\n",
      "17000/17000 [==============================] - 0s 10us/sample - loss: 44640.2877 - root_mean_squared_error: 211.2825\n",
      "Epoch 3/35\n",
      "17000/17000 [==============================] - 0s 10us/sample - loss: 38054.5101 - root_mean_squared_error: 195.0756\n",
      "Epoch 4/35\n",
      "17000/17000 [==============================] - 0s 11us/sample - loss: 32244.8136 - root_mean_squared_error: 179.5684\n",
      "Epoch 5/35\n",
      "17000/17000 [==============================] - 0s 10us/sample - loss: 27219.8204 - root_mean_squared_error: 164.9843\n",
      "Epoch 6/35\n",
      "17000/17000 [==============================] - ETA: 0s - loss: 23177.2027 - root_mean_squared_error: 152.240 - 0s 10us/sample - loss: 22963.5801 - root_mean_squared_error: 151.5374\n",
      "Epoch 7/35\n",
      "17000/17000 [==============================] - 0s 10us/sample - loss: 19456.4766 - root_mean_squared_error: 139.4865\n",
      "Epoch 8/35\n",
      "17000/17000 [==============================] - 0s 11us/sample - loss: 16653.3041 - root_mean_squared_error: 129.0477\n",
      "Epoch 9/35\n",
      "17000/17000 [==============================] - 0s 10us/sample - loss: 14507.4667 - root_mean_squared_error: 120.4470\n",
      "Epoch 10/35\n",
      "17000/17000 [==============================] - 0s 10us/sample - loss: 12971.3254 - root_mean_squared_error: 113.8917\n",
      "Epoch 11/35\n",
      "17000/17000 [==============================] - 0s 10us/sample - loss: 11927.9161 - root_mean_squared_error: 109.2150\n",
      "Epoch 12/35\n",
      "17000/17000 [==============================] - 0s 11us/sample - loss: 11308.8049 - root_mean_squared_error: 106.3429\n",
      "Epoch 13/35\n",
      "17000/17000 [==============================] - 0s 10us/sample - loss: 10973.8831 - root_mean_squared_error: 104.7563\n",
      "Epoch 14/35\n",
      "17000/17000 [==============================] - 0s 10us/sample - loss: 10789.0225 - root_mean_squared_error: 103.8702\n",
      "Epoch 15/35\n",
      "17000/17000 [==============================] - 0s 10us/sample - loss: 10676.2428 - root_mean_squared_error: 103.3259\n",
      "Epoch 16/35\n",
      "17000/17000 [==============================] - 0s 10us/sample - loss: 10602.9237 - root_mean_squared_error: 102.9705\n",
      "Epoch 17/35\n",
      "17000/17000 [==============================] - 0s 11us/sample - loss: 10552.9088 - root_mean_squared_error: 102.7274\n",
      "Epoch 18/35\n",
      "17000/17000 [==============================] - 0s 11us/sample - loss: 10519.3761 - root_mean_squared_error: 102.5640\n",
      "Epoch 19/35\n",
      "17000/17000 [==============================] - 0s 11us/sample - loss: 10495.2212 - root_mean_squared_error: 102.4462\n",
      "Epoch 20/35\n",
      "17000/17000 [==============================] - 0s 12us/sample - loss: 10477.7167 - root_mean_squared_error: 102.36070s - loss: 10448.9758 - root_mean_squared_error: 102.22\n",
      "Epoch 21/35\n",
      "17000/17000 [==============================] - 0s 11us/sample - loss: 10463.1807 - root_mean_squared_error: 102.2897\n",
      "Epoch 22/35\n",
      "17000/17000 [==============================] - 0s 11us/sample - loss: 10449.8262 - root_mean_squared_error: 102.2244\n",
      "Epoch 23/35\n",
      "17000/17000 [==============================] - 0s 11us/sample - loss: 10438.0413 - root_mean_squared_error: 102.1667\n",
      "Epoch 24/35\n",
      "17000/17000 [==============================] - 0s 10us/sample - loss: 10427.8924 - root_mean_squared_error: 102.1170\n",
      "Epoch 25/35\n",
      "17000/17000 [==============================] - 0s 11us/sample - loss: 10417.7772 - root_mean_squared_error: 102.0675\n",
      "Epoch 26/35\n",
      "17000/17000 [==============================] - 0s 11us/sample - loss: 10408.1863 - root_mean_squared_error: 102.0205\n",
      "Epoch 27/35\n",
      "17000/17000 [==============================] - 0s 11us/sample - loss: 10399.7268 - root_mean_squared_error: 101.9790\n",
      "Epoch 28/35\n",
      "17000/17000 [==============================] - 0s 11us/sample - loss: 10391.4287 - root_mean_squared_error: 101.9384\n",
      "Epoch 29/35\n",
      "17000/17000 [==============================] - 0s 10us/sample - loss: 10383.4409 - root_mean_squared_error: 101.8992\n",
      "Epoch 30/35\n",
      "17000/17000 [==============================] - 0s 11us/sample - loss: 10375.8994 - root_mean_squared_error: 101.8622\n",
      "Epoch 31/35\n",
      "17000/17000 [==============================] - 0s 11us/sample - loss: 10368.3838 - root_mean_squared_error: 101.8252\n",
      "Epoch 32/35\n",
      "17000/17000 [==============================] - 0s 11us/sample - loss: 10361.5190 - root_mean_squared_error: 101.7915\n",
      "Epoch 33/35\n",
      "17000/17000 [==============================] - 0s 10us/sample - loss: 10354.5973 - root_mean_squared_error: 101.7575\n",
      "Epoch 34/35\n",
      "17000/17000 [==============================] - 0s 11us/sample - loss: 10348.1293 - root_mean_squared_error: 101.7258\n",
      "Epoch 35/35\n",
      "17000/17000 [==============================] - 0s 11us/sample - loss: 10341.2941 - root_mean_squared_error: 101.6922\n"
     ]
    },
    {
     "data": {
      "image/png": "[encoded data removed]",
      "text/plain": [
       "<Figure size 432x288 with 1 Axes>"
      ]
     },
     "metadata": {
      "needs_background": "light"
     },
     "output_type": "display_data"
    },
    {
     "name": "stdout",
     "output_type": "stream",
     "text": [
      "Defined the create_model, train_model, and plot_the_loss_curve functions.\n",
      "\n",
      ": Evaluate the new model against the test set:\n",
      "3000/3000 [==============================] - 0s 35us/sample - loss: 10198.2822 - root_mean_squared_error: 100.9865\n"
     ]
    },
    {
     "data": {
      "text/plain": [
       "[10198.282161458334, 100.98654]"
      ]
     },
     "execution_count": 15,
     "metadata": {},
     "output_type": "execute_result"
    }
   ],
   "source": [
    "# The following variables are the hyperparameters.\n",
    "learning_rate = 0.04\n",
    "epochs = 35\n",
    "\n",
    "# Build the model, this time passing in the buckets_feature_layer.\n",
    "my_model = create_model(learning_rate, buckets_feature_layer)\n",
    "\n",
    "# Train the model on the training set.\n",
    "epochs, rmse = train_model(my_model, train_df, epochs, batch_size, label_name)\n",
    "\n",
    "plot_the_loss_curve(epochs, rmse)\n",
    "\n",
    "print(\"\\n: Evaluate the new model against the test set:\")\n",
    "my_model.evaluate(x=test_features, y=test_label, batch_size=batch_size)"
   ]
  },
  {
   "cell_type": "code",
   "execution_count": 26,
   "metadata": {},
   "outputs": [],
   "source": [
    "resolution_in_degrees = .5\n",
    "\n",
    "# Create a new empty list that will eventually hold the generated feature column.\n",
    "feature_columns = []\n",
    "\n",
    "# Create a bucket feature column for latitude.\n",
    "latitude_as_a_numeric_column = tf.feature_column.numeric_column(\"latitude\")\n",
    "latitude_boundaries = list(np.arange(int(min(train_df['latitude'])), int(max(train_df['latitude'])), resolution_in_degrees))\n",
    "latitude = tf.feature_column.bucketized_column(latitude_as_a_numeric_column, latitude_boundaries)\n",
    "\n",
    "# Create a bucket feature column for longitude.\n",
    "longitude_as_a_numeric_column = tf.feature_column.numeric_column(\"longitude\")\n",
    "longitude_boundaries = list(np.arange(int(min(train_df['longitude'])), int(max(train_df['longitude'])), resolution_in_degrees))\n",
    "longitude = tf.feature_column.bucketized_column(longitude_as_a_numeric_column, longitude_boundaries)\n",
    "\n",
    "# Create a feature cross of latitude and longitude.\n",
    "latitude_x_longitude = tf.feature_column.crossed_column([latitude, longitude], hash_bucket_size=100)\n",
    "crossed_feature = tf.feature_column.indicator_column(latitude_x_longitude)\n",
    "feature_columns.append(crossed_feature)\n",
    "\n",
    "# Convert the list of feature columns into a layer that will later be fed into\n",
    "# the model. \n",
    "feature_cross_feature_layer = layers.DenseFeatures(feature_columns)"
   ]
  },
  {
   "cell_type": "code",
   "execution_count": 27,
   "metadata": {},
   "outputs": [
    {
     "name": "stdout",
     "output_type": "stream",
     "text": [
      "Train on 17000 samples\n",
      "Epoch 1/35\n",
      "17000/17000 [==============================] - 0s 29us/sample - loss: 53607.3500 - root_mean_squared_error: 231.5326\n",
      "Epoch 2/35\n",
      "17000/17000 [==============================] - 0s 12us/sample - loss: 48709.7467 - root_mean_squared_error: 220.7028\n",
      "Epoch 3/35\n",
      "17000/17000 [==============================] - 0s 12us/sample - loss: 44144.7784 - root_mean_squared_error: 210.1065\n",
      "Epoch 4/35\n",
      "17000/17000 [==============================] - 0s 12us/sample - loss: 39882.2409 - root_mean_squared_error: 199.7054\n",
      "Epoch 5/35\n",
      "17000/17000 [==============================] - 0s 14us/sample - loss: 35955.1461 - root_mean_squared_error: 189.61840s - loss: 36451.0687 - root_mean_squared_error: 190.92\n",
      "Epoch 6/35\n",
      "17000/17000 [==============================] - 0s 13us/sample - loss: 32328.1169 - root_mean_squared_error: 179.8002\n",
      "Epoch 7/35\n",
      "17000/17000 [==============================] - 0s 12us/sample - loss: 29024.0934 - root_mean_squared_error: 170.3646\n",
      "Epoch 8/35\n",
      "17000/17000 [==============================] - 0s 12us/sample - loss: 26006.0285 - root_mean_squared_error: 161.2639\n",
      "Epoch 9/35\n",
      "17000/17000 [==============================] - 0s 12us/sample - loss: 23305.1239 - root_mean_squared_error: 152.6601\n",
      "Epoch 10/35\n",
      "17000/17000 [==============================] - 0s 14us/sample - loss: 20876.9852 - root_mean_squared_error: 144.4887\n",
      "Epoch 11/35\n",
      "17000/17000 [==============================] - 0s 12us/sample - loss: 18745.0375 - root_mean_squared_error: 136.9125\n",
      "Epoch 12/35\n",
      "17000/17000 [==============================] - 0s 11us/sample - loss: 16878.7274 - root_mean_squared_error: 129.9182\n",
      "Epoch 13/35\n",
      "17000/17000 [==============================] - 0s 11us/sample - loss: 15259.0858 - root_mean_squared_error: 123.5277\n",
      "Epoch 14/35\n",
      "17000/17000 [==============================] - 0s 13us/sample - loss: 13891.3439 - root_mean_squared_error: 117.8615\n",
      "Epoch 15/35\n",
      "17000/17000 [==============================] - 0s 11us/sample - loss: 12771.0551 - root_mean_squared_error: 113.0091\n",
      "Epoch 16/35\n",
      "17000/17000 [==============================] - 0s 11us/sample - loss: 11839.8790 - root_mean_squared_error: 108.8112\n",
      "Epoch 17/35\n",
      "17000/17000 [==============================] - 0s 11us/sample - loss: 11139.3982 - root_mean_squared_error: 105.5434\n",
      "Epoch 18/35\n",
      "17000/17000 [==============================] - 0s 11us/sample - loss: 10621.4474 - root_mean_squared_error: 103.0604\n",
      "Epoch 19/35\n",
      "17000/17000 [==============================] - 0s 11us/sample - loss: 10258.3426 - root_mean_squared_error: 101.2835\n",
      "Epoch 20/35\n",
      "17000/17000 [==============================] - 0s 12us/sample - loss: 10005.4221 - root_mean_squared_error: 100.0271\n",
      "Epoch 21/35\n",
      "17000/17000 [==============================] - 0s 13us/sample - loss: 9828.3459 - root_mean_squared_error: 99.1380\n",
      "Epoch 22/35\n",
      "17000/17000 [==============================] - 0s 12us/sample - loss: 9693.0787 - root_mean_squared_error: 98.4534\n",
      "Epoch 23/35\n",
      "17000/17000 [==============================] - 0s 12us/sample - loss: 9581.1397 - root_mean_squared_error: 97.8833\n",
      "Epoch 24/35\n",
      "17000/17000 [==============================] - 0s 12us/sample - loss: 9484.1309 - root_mean_squared_error: 97.3865\n",
      "Epoch 25/35\n",
      "17000/17000 [==============================] - 0s 12us/sample - loss: 9398.0290 - root_mean_squared_error: 96.9434\n",
      "Epoch 26/35\n",
      "17000/17000 [==============================] - 0s 12us/sample - loss: 9324.0780 - root_mean_squared_error: 96.5612\n",
      "Epoch 27/35\n",
      "17000/17000 [==============================] - 0s 12us/sample - loss: 9260.2199 - root_mean_squared_error: 96.2300\n",
      "Epoch 28/35\n",
      "17000/17000 [==============================] - 0s 12us/sample - loss: 9203.3002 - root_mean_squared_error: 95.9338\n",
      "Epoch 29/35\n",
      "17000/17000 [==============================] - 0s 15us/sample - loss: 9152.1546 - root_mean_squared_error: 95.6669\n",
      "Epoch 30/35\n",
      "17000/17000 [==============================] - 0s 13us/sample - loss: 9106.2442 - root_mean_squared_error: 95.42670s - loss: 8948.3040 - root_mean_squared_error: 94.59 - ETA: 0s - loss: 9080.5228 - root_mean_squared_error: 95.291\n",
      "Epoch 31/35\n",
      "17000/17000 [==============================] - 0s 12us/sample - loss: 9065.7987 - root_mean_squared_error: 95.2145\n",
      "Epoch 32/35\n",
      "17000/17000 [==============================] - 0s 14us/sample - loss: 9029.3546 - root_mean_squared_error: 95.0229\n",
      "Epoch 33/35\n",
      "17000/17000 [==============================] - 0s 12us/sample - loss: 8998.3423 - root_mean_squared_error: 94.8596: 0s - loss: 8927.6488 - root_mean_squared_error: 94.48\n",
      "Epoch 34/35\n",
      "17000/17000 [==============================] - 0s 12us/sample - loss: 8969.5994 - root_mean_squared_error: 94.7080\n",
      "Epoch 35/35\n",
      "17000/17000 [==============================] - 0s 11us/sample - loss: 8943.3547 - root_mean_squared_error: 94.5693\n"
     ]
    },
    {
     "data": {
      "image/png": "[encoded data removed]",
      "text/plain": [
       "<Figure size 432x288 with 1 Axes>"
      ]
     },
     "metadata": {
      "needs_background": "light"
     },
     "output_type": "display_data"
    },
    {
     "name": "stdout",
     "output_type": "stream",
     "text": [
      "Defined the create_model, train_model, and plot_the_loss_curve functions.\n",
      "\n",
      ": Evaluate the new model against the test set:\n",
      "3000/3000 [==============================] - 0s 44us/sample - loss: 9011.1590 - root_mean_squared_error: 94.9271\n"
     ]
    },
    {
     "data": {
      "text/plain": [
       "[9011.158951822918, 94.927124]"
      ]
     },
     "execution_count": 27,
     "metadata": {},
     "output_type": "execute_result"
    }
   ],
   "source": [
    "# The following variables are the hyperparameters.\n",
    "learning_rate = 0.04\n",
    "epochs = 35\n",
    "\n",
    "# Build the model, this time passing in the feature_cross_feature_layer: \n",
    "my_model = create_model(learning_rate, feature_cross_feature_layer)\n",
    "\n",
    "# Train the model on the training set.\n",
    "epochs, rmse = train_model(my_model, train_df, epochs, batch_size, label_name)\n",
    "\n",
    "plot_the_loss_curve(epochs, rmse)\n",
    "\n",
    "print(\"\\n: Evaluate the new model against the test set:\")\n",
    "my_model.evaluate(x=test_features, y=test_label, batch_size=batch_size)"
   ]
  },
  {
   "cell_type": "code",
   "execution_count": null,
   "metadata": {},
   "outputs": [],
   "source": []
  }
 ],
 "metadata": {
  "kernelspec": {
   "display_name": "Python 3",
   "language": "python",
   "name": "python3"
  },
  "language_info": {
   "codemirror_mode": {
    "name": "ipython",
    "version": 3
   },
   "file_extension": ".py",
   "mimetype": "text/x-python",
   "name": "python",
   "nbconvert_exporter": "python",
   "pygments_lexer": "ipython3",
   "version": "3.7.9"
  }
 },
 "nbformat": 4,
 "nbformat_minor": 4
}
