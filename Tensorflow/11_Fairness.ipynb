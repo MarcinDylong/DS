{
 "cells": [
  {
   "cell_type": "code",
   "execution_count": 9,
   "metadata": {},
   "outputs": [
    {
     "name": "stdout",
     "output_type": "stream",
     "text": [
      "Collecting facets-overview==1.0.0\n",
      "  Downloading facets_overview-1.0.0-py2.py3-none-any.whl (24 kB)\n",
      "Requirement already satisfied: numpy>=1.16.0 in c:\\users\\marci\\anaconda3\\envs\\tf\\lib\\site-packages (from facets-overview==1.0.0) (1.19.1)\n",
      "Requirement already satisfied: pandas>=0.22.0 in c:\\users\\marci\\anaconda3\\envs\\tf\\lib\\site-packages (from facets-overview==1.0.0) (1.1.1)\n",
      "Requirement already satisfied: protobuf>=3.7.0 in c:\\users\\marci\\anaconda3\\envs\\tf\\lib\\site-packages (from facets-overview==1.0.0) (3.13.0)\n",
      "Requirement already satisfied: python-dateutil>=2.7.3 in c:\\users\\marci\\anaconda3\\envs\\tf\\lib\\site-packages (from pandas>=0.22.0->facets-overview==1.0.0) (2.8.1)\n",
      "Requirement already satisfied: pytz>=2017.2 in c:\\users\\marci\\anaconda3\\envs\\tf\\lib\\site-packages (from pandas>=0.22.0->facets-overview==1.0.0) (2020.1)\n",
      "Requirement already satisfied: six>=1.9 in c:\\users\\marci\\anaconda3\\envs\\tf\\lib\\site-packages (from protobuf>=3.7.0->facets-overview==1.0.0) (1.15.0)\n",
      "Requirement already satisfied: setuptools in c:\\users\\marci\\anaconda3\\envs\\tf\\lib\\site-packages (from protobuf>=3.7.0->facets-overview==1.0.0) (49.6.0.post20200814)\n",
      "Installing collected packages: facets-overview\n",
      "Successfully installed facets-overview-1.0.0\n"
     ]
    }
   ],
   "source": [
    "#@title Import revelant modules and install Facets\n",
    "import numpy as np\n",
    "import pandas as pd\n",
    "import tensorflow as tf\n",
    "from tensorflow.keras import layers\n",
    "from matplotlib import pyplot as plt\n",
    "from matplotlib import rcParams\n",
    "import seaborn as sns\n",
    "\n",
    "# The following lines adjust the granularity of reporting. \n",
    "pd.options.display.max_rows = 10\n",
    "pd.options.display.float_format = \"{:.1f}\".format\n",
    "\n",
    "\n",
    "# For facets\n",
    "from IPython.core.display import display, HTML\n",
    "import base64\n",
    "!pip install facets-overview==1.0.0\n",
    "from facets_overview.feature_statistics_generator import FeatureStatisticsGenerator"
   ]
  },
  {
   "cell_type": "code",
   "execution_count": 3,
   "metadata": {},
   "outputs": [
    {
     "name": "stdout",
     "output_type": "stream",
     "text": [
      "Downloading data from https://download.mlcc.google.com/mledu-datasets/adult_census_train.csv\n",
      "3981312/3974305 [==============================] - 1s 0us/step\n"
     ]
    }
   ],
   "source": [
    "COLUMNS = [\"age\", \"workclass\", \"fnlwgt\", \"education\", \"education_num\",\n",
    "           \"marital_status\", \"occupation\", \"relationship\", \"race\", \"gender\",\n",
    "           \"capital_gain\", \"capital_loss\", \"hours_per_week\", \"native_country\",\n",
    "           \"income_bracket\"]\n",
    "\n",
    "train_csv = tf.keras.utils.get_file('adult.data', \n",
    "  'https://download.mlcc.google.com/mledu-datasets/adult_census_train.csv')\n",
    "test_csv = tf.keras.utils.get_file('adult.data', \n",
    "  'https://download.mlcc.google.com/mledu-datasets/adult_census_test.csv')\n",
    "\n",
    "train_df = pd.read_csv(train_csv, names=COLUMNS, sep=r'\\s*,\\s*', \n",
    "                       engine='python', na_values=\"?\")\n",
    "test_df = pd.read_csv(test_csv, names=COLUMNS, sep=r'\\s*,\\s*', skiprows=[0],\n",
    "                      engine='python', na_values=\"?\")"
   ]
  },
  {
   "cell_type": "code",
   "execution_count": 5,
   "metadata": {},
   "outputs": [
    {
     "name": "stdout",
     "output_type": "stream",
     "text": [
      "<class 'pandas.core.frame.DataFrame'>\n",
      "RangeIndex: 32561 entries, 0 to 32560\n",
      "Data columns (total 15 columns):\n",
      " #   Column          Non-Null Count  Dtype \n",
      "---  ------          --------------  ----- \n",
      " 0   age             32561 non-null  int64 \n",
      " 1   workclass       30725 non-null  object\n",
      " 2   fnlwgt          32561 non-null  int64 \n",
      " 3   education       32561 non-null  object\n",
      " 4   education_num   32561 non-null  int64 \n",
      " 5   marital_status  32561 non-null  object\n",
      " 6   occupation      30718 non-null  object\n",
      " 7   relationship    32561 non-null  object\n",
      " 8   race            32561 non-null  object\n",
      " 9   gender          32561 non-null  object\n",
      " 10  capital_gain    32561 non-null  int64 \n",
      " 11  capital_loss    32561 non-null  int64 \n",
      " 12  hours_per_week  32561 non-null  int64 \n",
      " 13  native_country  31978 non-null  object\n",
      " 14  income_bracket  32561 non-null  object\n",
      "dtypes: int64(6), object(9)\n",
      "memory usage: 3.7+ MB\n"
     ]
    }
   ],
   "source": [
    "train_df.info()"
   ]
  },
  {
   "cell_type": "code",
   "execution_count": 7,
   "metadata": {},
   "outputs": [
    {
     "data": {
      "text/html": [
       "<div>\n",
       "<style scoped>\n",
       "    .dataframe tbody tr th:only-of-type {\n",
       "        vertical-align: middle;\n",
       "    }\n",
       "\n",
       "    .dataframe tbody tr th {\n",
       "        vertical-align: top;\n",
       "    }\n",
       "\n",
       "    .dataframe thead th {\n",
       "        text-align: right;\n",
       "    }\n",
       "</style>\n",
       "<table border=\"1\" class=\"dataframe\">\n",
       "  <thead>\n",
       "    <tr style=\"text-align: right;\">\n",
       "      <th></th>\n",
       "      <th>count</th>\n",
       "      <th>mean</th>\n",
       "      <th>std</th>\n",
       "      <th>min</th>\n",
       "      <th>25%</th>\n",
       "      <th>50%</th>\n",
       "      <th>75%</th>\n",
       "      <th>max</th>\n",
       "    </tr>\n",
       "  </thead>\n",
       "  <tbody>\n",
       "    <tr>\n",
       "      <th>age</th>\n",
       "      <td>32561.0</td>\n",
       "      <td>38.6</td>\n",
       "      <td>13.6</td>\n",
       "      <td>17.0</td>\n",
       "      <td>28.0</td>\n",
       "      <td>37.0</td>\n",
       "      <td>48.0</td>\n",
       "      <td>90.0</td>\n",
       "    </tr>\n",
       "    <tr>\n",
       "      <th>fnlwgt</th>\n",
       "      <td>32561.0</td>\n",
       "      <td>189778.4</td>\n",
       "      <td>105550.0</td>\n",
       "      <td>12285.0</td>\n",
       "      <td>117827.0</td>\n",
       "      <td>178356.0</td>\n",
       "      <td>237051.0</td>\n",
       "      <td>1484705.0</td>\n",
       "    </tr>\n",
       "    <tr>\n",
       "      <th>education_num</th>\n",
       "      <td>32561.0</td>\n",
       "      <td>10.1</td>\n",
       "      <td>2.6</td>\n",
       "      <td>1.0</td>\n",
       "      <td>9.0</td>\n",
       "      <td>10.0</td>\n",
       "      <td>12.0</td>\n",
       "      <td>16.0</td>\n",
       "    </tr>\n",
       "    <tr>\n",
       "      <th>capital_gain</th>\n",
       "      <td>32561.0</td>\n",
       "      <td>1077.6</td>\n",
       "      <td>7385.3</td>\n",
       "      <td>0.0</td>\n",
       "      <td>0.0</td>\n",
       "      <td>0.0</td>\n",
       "      <td>0.0</td>\n",
       "      <td>99999.0</td>\n",
       "    </tr>\n",
       "    <tr>\n",
       "      <th>capital_loss</th>\n",
       "      <td>32561.0</td>\n",
       "      <td>87.3</td>\n",
       "      <td>403.0</td>\n",
       "      <td>0.0</td>\n",
       "      <td>0.0</td>\n",
       "      <td>0.0</td>\n",
       "      <td>0.0</td>\n",
       "      <td>4356.0</td>\n",
       "    </tr>\n",
       "    <tr>\n",
       "      <th>hours_per_week</th>\n",
       "      <td>32561.0</td>\n",
       "      <td>40.4</td>\n",
       "      <td>12.3</td>\n",
       "      <td>1.0</td>\n",
       "      <td>40.0</td>\n",
       "      <td>40.0</td>\n",
       "      <td>45.0</td>\n",
       "      <td>99.0</td>\n",
       "    </tr>\n",
       "  </tbody>\n",
       "</table>\n",
       "</div>"
      ],
      "text/plain": [
       "                 count     mean      std     min      25%      50%      75%  \\\n",
       "age            32561.0     38.6     13.6    17.0     28.0     37.0     48.0   \n",
       "fnlwgt         32561.0 189778.4 105550.0 12285.0 117827.0 178356.0 237051.0   \n",
       "education_num  32561.0     10.1      2.6     1.0      9.0     10.0     12.0   \n",
       "capital_gain   32561.0   1077.6   7385.3     0.0      0.0      0.0      0.0   \n",
       "capital_loss   32561.0     87.3    403.0     0.0      0.0      0.0      0.0   \n",
       "hours_per_week 32561.0     40.4     12.3     1.0     40.0     40.0     45.0   \n",
       "\n",
       "                     max  \n",
       "age                 90.0  \n",
       "fnlwgt         1484705.0  \n",
       "education_num       16.0  \n",
       "capital_gain     99999.0  \n",
       "capital_loss      4356.0  \n",
       "hours_per_week      99.0  "
      ]
     },
     "execution_count": 7,
     "metadata": {},
     "output_type": "execute_result"
    }
   ],
   "source": [
    "train_df.describe().T"
   ]
  },
  {
   "cell_type": "code",
   "execution_count": 10,
   "metadata": {},
   "outputs": [],
   "source": [
    "def pandas_to_numpy(data):\n",
    "    '''Convert a pandas DataFrame into a Numpy array'''\n",
    "    # Drop empty rows.\n",
    "    data = data.dropna(how=\"any\", axis=0)\n",
    "\n",
    "    # Separate DataFrame into two Numpy arrays\"\n",
    "    labels = np.array(data['income_bracket'] == \">50K\")\n",
    "    features = data.drop('income_bracket', axis=1)\n",
    "    features = {name:np.array(value) for name, value in features.items()}\n",
    "\n",
    "    return features, labels"
   ]
  },
  {
   "cell_type": "code",
   "execution_count": 11,
   "metadata": {},
   "outputs": [],
   "source": [
    "# Since we don't know the full range of possible values with occupation and\n",
    "# native_country, we'll use categorical_column_with_hash_bucket() to help map\n",
    "# each feature string into an integer ID.\n",
    "occupation = tf.feature_column.categorical_column_with_hash_bucket(\n",
    "    \"occupation\", hash_bucket_size=1000)\n",
    "native_country = tf.feature_column.categorical_column_with_hash_bucket(\n",
    "    \"native_country\", hash_bucket_size=1000)\n",
    "\n",
    "# For the remaining categorical features, since we know what the possible values\n",
    "# are, we can be more explicit and use categorical_column_with_vocabulary_list()\n",
    "gender = tf.feature_column.categorical_column_with_vocabulary_list(\"gender\", [\n",
    "         \"Female\", \"Male\"])\n",
    "race = tf.feature_column.categorical_column_with_vocabulary_list(\"race\", [\n",
    "       \"White\", \"Asian-Pac-Islander\", \"Amer-Indian-Eskimo\", \"Other\", \"Black\"])\n",
    "education = tf.feature_column.categorical_column_with_vocabulary_list(\"education\", [\n",
    "            \"Bachelors\", \"HS-grad\", \"11th\", \"Masters\", \"9th\",\n",
    "            \"Some-college\", \"Assoc-acdm\", \"Assoc-voc\", \"7th-8th\",\n",
    "            \"Doctorate\", \"Prof-school\", \"5th-6th\", \"10th\", \"1st-4th\",\n",
    "            \"Preschool\", \"12th\"])\n",
    "marital_status = tf.feature_column.categorical_column_with_vocabulary_list(\"marital_status\", [\n",
    "                 \"Married-civ-spouse\", \"Divorced\", \"Married-spouse-absent\",\n",
    "                 \"Never-married\", \"Separated\", \"Married-AF-spouse\", \"Widowed\"])\n",
    "relationship = tf.feature_column.categorical_column_with_vocabulary_list(\"relationship\", [\n",
    "               \"Husband\", \"Not-in-family\", \"Wife\", \"Own-child\", \"Unmarried\",\n",
    "               \"Other-relative\"])\n",
    "workclass = tf.feature_column.categorical_column_with_vocabulary_list(\"workclass\", [\n",
    "            \"Self-emp-not-inc\", \"Private\", \"State-gov\", \"Federal-gov\",\n",
    "            \"Local-gov\", \"?\", \"Self-emp-inc\", \"Without-pay\", \"Never-worked\"])\n",
    "\n",
    "#@title Create numeric feature columns\n",
    "# For Numeric features, we can just call on feature_column.numeric_column()\n",
    "# to use its raw value instead of having to create a map between value and ID.\n",
    "age = tf.feature_column.numeric_column(\"age\")\n",
    "fnlwgt = tf.feature_column.numeric_column(\"fnlwgt\")\n",
    "education_num = tf.feature_column.numeric_column(\"education_num\")\n",
    "capital_gain = tf.feature_column.numeric_column(\"capital_gain\")\n",
    "capital_loss = tf.feature_column.numeric_column(\"capital_loss\")\n",
    "hours_per_week = tf.feature_column.numeric_column(\"hours_per_week\")\n",
    "\n",
    "\n",
    "age_buckets = tf.feature_column.bucketized_column(\n",
    "    age, boundaries=[18, 25, 30, 35, 40, 45, 50, 55, 60, 65])"
   ]
  },
  {
   "cell_type": "code",
   "execution_count": 12,
   "metadata": {},
   "outputs": [],
   "source": [
    "# List of variables, with special handling for gender subgroup.\n",
    "variables = [native_country, education, occupation, workclass, \n",
    "             relationship, age_buckets]\n",
    "subgroup_variables = [gender]\n",
    "feature_columns = variables + subgroup_variables"
   ]
  },
  {
   "cell_type": "code",
   "execution_count": 13,
   "metadata": {},
   "outputs": [],
   "source": [
    "deep_columns = [\n",
    "    tf.feature_column.indicator_column(workclass),\n",
    "    tf.feature_column.indicator_column(education),\n",
    "    tf.feature_column.indicator_column(age_buckets),\n",
    "    tf.feature_column.indicator_column(relationship),\n",
    "    tf.feature_column.embedding_column(native_country, dimension=8),\n",
    "    tf.feature_column.embedding_column(occupation, dimension=8),\n",
    "]"
   ]
  },
  {
   "cell_type": "code",
   "execution_count": 14,
   "metadata": {},
   "outputs": [],
   "source": [
    "#@title Define Deep Neural Net Model\n",
    "\n",
    "# Parameters from form fill-ins\n",
    "HIDDEN_UNITS_LAYER_01 = 128 #@param\n",
    "HIDDEN_UNITS_LAYER_02 = 64 #@param\n",
    "LEARNING_RATE = 0.1 #@param\n",
    "L1_REGULARIZATION_STRENGTH = 0.001 #@param\n",
    "L2_REGULARIZATION_STRENGTH = 0.001 #@param\n",
    "\n",
    "RANDOM_SEED = 512\n",
    "tf.random.set_seed(RANDOM_SEED)\n",
    "# List of built-in metrics that we'll need to evaluate performance.\n",
    "METRICS = [\n",
    "  tf.keras.metrics.TruePositives(name='tp'),\n",
    "  tf.keras.metrics.FalsePositives(name='fp'),\n",
    "  tf.keras.metrics.TrueNegatives(name='tn'),\n",
    "  tf.keras.metrics.FalseNegatives(name='fn'), \n",
    "  tf.keras.metrics.BinaryAccuracy(name='accuracy'),\n",
    "  tf.keras.metrics.Precision(name='precision'),\n",
    "  tf.keras.metrics.Recall(name='recall'),\n",
    "  tf.keras.metrics.AUC(name='auc'),\n",
    "]\n",
    "\n",
    "regularizer = tf.keras.regularizers.l1_l2(\n",
    "    l1=L1_REGULARIZATION_STRENGTH, l2=L2_REGULARIZATION_STRENGTH)\n",
    "\n",
    "model = tf.keras.Sequential([\n",
    "  layers.DenseFeatures(deep_columns),\n",
    "  layers.Dense(\n",
    "      HIDDEN_UNITS_LAYER_01, activation='relu', kernel_regularizer=regularizer),\n",
    "  layers.Dense(\n",
    "      HIDDEN_UNITS_LAYER_02, activation='relu', kernel_regularizer=regularizer),\n",
    "  layers.Dense(\n",
    "      1, activation='sigmoid', kernel_regularizer=regularizer)\n",
    "])\n",
    "\n",
    "model.compile(optimizer=tf.keras.optimizers.Adagrad(LEARNING_RATE),  \n",
    "              loss=tf.keras.losses.BinaryCrossentropy(),\n",
    "              metrics=METRICS)"
   ]
  },
  {
   "cell_type": "code",
   "execution_count": 15,
   "metadata": {},
   "outputs": [
    {
     "name": "stdout",
     "output_type": "stream",
     "text": [
      "WARNING:tensorflow:From C:\\Users\\marci\\anaconda3\\envs\\tf\\lib\\site-packages\\tensorflow_core\\python\\feature_column\\feature_column_v2.py:4267: IndicatorColumn._variable_shape (from tensorflow.python.feature_column.feature_column_v2) is deprecated and will be removed in a future version.\n",
      "Instructions for updating:\n",
      "The old _FeatureColumn APIs are being deprecated. Please use the new FeatureColumn APIs instead.\n",
      "WARNING:tensorflow:From C:\\Users\\marci\\anaconda3\\envs\\tf\\lib\\site-packages\\tensorflow_core\\python\\feature_column\\feature_column_v2.py:4322: BucketizedColumn._num_buckets (from tensorflow.python.feature_column.feature_column_v2) is deprecated and will be removed in a future version.\n",
      "Instructions for updating:\n",
      "The old _FeatureColumn APIs are being deprecated. Please use the new FeatureColumn APIs instead.\n",
      "WARNING:tensorflow:From C:\\Users\\marci\\anaconda3\\envs\\tf\\lib\\site-packages\\tensorflow_core\\python\\feature_column\\feature_column_v2.py:4322: VocabularyListCategoricalColumn._num_buckets (from tensorflow.python.feature_column.feature_column_v2) is deprecated and will be removed in a future version.\n",
      "Instructions for updating:\n",
      "The old _FeatureColumn APIs are being deprecated. Please use the new FeatureColumn APIs instead.\n",
      "Train on 30162 samples\n",
      "Epoch 1/10\n",
      "30162/30162 [==============================] - 2s 83us/sample - loss: 1.8368 - tp: 1353.0000 - fp: 645.0000 - tn: 22009.0000 - fn: 6155.0000 - accuracy: 0.7746 - precision: 0.6772 - recall: 0.1802 - auc: 0.7911\n",
      "Epoch 2/10\n",
      "30162/30162 [==============================] - 0s 7us/sample - loss: 1.4137 - tp: 3696.0000 - fp: 1511.0000 - tn: 21143.0000 - fn: 3812.0000 - accuracy: 0.8235 - precision: 0.7098 - recall: 0.4923 - auc: 0.8669\n",
      "Epoch 3/10\n",
      "30162/30162 [==============================] - 0s 7us/sample - loss: 1.1152 - tp: 3961.0000 - fp: 1597.0000 - tn: 21057.0000 - fn: 3547.0000 - accuracy: 0.8295 - precision: 0.7127 - recall: 0.5276 - auc: 0.8753\n",
      "Epoch 4/10\n",
      "30162/30162 [==============================] - 0s 7us/sample - loss: 0.8822 - tp: 3980.0000 - fp: 1628.0000 - tn: 21026.0000 - fn: 3528.0000 - accuracy: 0.8291 - precision: 0.7097 - recall: 0.5301 - auc: 0.8777\n",
      "Epoch 5/10\n",
      "30162/30162 [==============================] - 0s 7us/sample - loss: 0.7067 - tp: 4002.0000 - fp: 1622.0000 - tn: 21032.0000 - fn: 3506.0000 - accuracy: 0.8300 - precision: 0.7116 - recall: 0.5330 - auc: 0.8779\n",
      "Epoch 6/10\n",
      "30162/30162 [==============================] - 0s 7us/sample - loss: 0.5817 - tp: 3981.0000 - fp: 1596.0000 - tn: 21058.0000 - fn: 3527.0000 - accuracy: 0.8302 - precision: 0.7138 - recall: 0.5302 - auc: 0.8775\n",
      "Epoch 7/10\n",
      "30162/30162 [==============================] - 0s 7us/sample - loss: 0.4999 - tp: 3964.0000 - fp: 1632.0000 - tn: 21022.0000 - fn: 3544.0000 - accuracy: 0.8284 - precision: 0.7084 - recall: 0.5280 - auc: 0.8775\n",
      "Epoch 8/10\n",
      "30162/30162 [==============================] - 0s 7us/sample - loss: 0.4550 - tp: 4006.0000 - fp: 1643.0000 - tn: 21011.0000 - fn: 3502.0000 - accuracy: 0.8294 - precision: 0.7092 - recall: 0.5336 - auc: 0.8777\n",
      "Epoch 9/10\n",
      "30162/30162 [==============================] - 0s 7us/sample - loss: 0.4367 - tp: 4015.0000 - fp: 1635.0000 - tn: 21019.0000 - fn: 3493.0000 - accuracy: 0.8300 - precision: 0.7106 - recall: 0.5348 - auc: 0.8796\n",
      "Epoch 10/10\n",
      "30162/30162 [==============================] - 0s 7us/sample - loss: 0.4290 - tp: 4040.0000 - fp: 1652.0000 - tn: 21002.0000 - fn: 3468.0000 - accuracy: 0.8302 - precision: 0.7098 - recall: 0.5381 - auc: 0.8795\n"
     ]
    },
    {
     "data": {
      "text/plain": [
       "<tensorflow.python.keras.callbacks.History at 0x2669a931b88>"
      ]
     },
     "execution_count": 15,
     "metadata": {},
     "output_type": "execute_result"
    }
   ],
   "source": [
    "#@title Fit Deep Neural Net Model to the Adult Training Dataset\n",
    "EPOCHS = 10 #@param\n",
    "BATCH_SIZE = 500 #@param\n",
    "\n",
    "features, labels = pandas_to_numpy(train_df)\n",
    "model.fit(x=features, y=labels, epochs=EPOCHS, batch_size=BATCH_SIZE)"
   ]
  },
  {
   "cell_type": "code",
   "execution_count": 16,
   "metadata": {},
   "outputs": [
    {
     "name": "stdout",
     "output_type": "stream",
     "text": [
      "30161/30161 [==============================] - 2s 76us/sample - loss: 0.4244 - tp: 4301.0000 - fp: 1869.0000 - tn: 20784.0000 - fn: 3207.0000 - accuracy: 0.8317 - precision: 0.6971 - recall: 0.5729 - auc: 0.8817\n"
     ]
    }
   ],
   "source": [
    "#@title Evaluate Deep Neural Net Performance\n",
    "\n",
    "features, labels = pandas_to_numpy(test_df)\n",
    "model.evaluate(x=features, y=labels);"
   ]
  },
  {
   "cell_type": "code",
   "execution_count": 17,
   "metadata": {},
   "outputs": [],
   "source": [
    "#@title Define Function to Visualize Binary Confusion Matrix\n",
    "def plot_confusion_matrix(\n",
    "    confusion_matrix, class_names, subgroup, figsize = (8,6)):\n",
    "    # We're taking our calculated binary confusion matrix that's already in the \n",
    "    # form of an array and turning it into a pandas DataFrame because it's a lot \n",
    "    # easier to work with a pandas DataFrame when visualizing a heat map in \n",
    "    # Seaborn.\n",
    "    df_cm = pd.DataFrame(confusion_matrix, index=class_names, columns=class_names, )\n",
    "\n",
    "    rcParams.update({'font.family':'sans-serif',\n",
    "                     'font.sans-serif':['Liberation Sans'],})\n",
    "\n",
    "    sns.set_context(\"notebook\", font_scale=1.25)\n",
    "\n",
    "    fig = plt.figure(figsize=figsize)\n",
    "\n",
    "    plt.title('Confusion Matrix for Performance Across ' + subgroup)\n",
    "\n",
    "    # Combine the instance (numercial value) with its description\n",
    "    strings = np.asarray([['True Positives', 'False Negatives'],\n",
    "                        ['False Positives', 'True Negatives']])\n",
    "    labels = (np.asarray(\n",
    "      [\"{0:g}\\n{1}\".format(value, string) for string, value in zip(\n",
    "          strings.flatten(), confusion_matrix.flatten())])).reshape(2, 2)\n",
    "\n",
    "    heatmap = sns.heatmap(df_cm, annot=labels, fmt=\"\", \n",
    "      linewidths=2.0, cmap=sns.color_palette(\"GnBu_d\"));\n",
    "    heatmap.yaxis.set_ticklabels(\n",
    "      heatmap.yaxis.get_ticklabels(), rotation=0, ha='right')\n",
    "    heatmap.xaxis.set_ticklabels(\n",
    "      heatmap.xaxis.get_ticklabels(), rotation=45, ha='right')\n",
    "    plt.ylabel('References')\n",
    "    plt.xlabel('Predictions')\n",
    "    return fig"
   ]
  },
  {
   "cell_type": "code",
   "execution_count": 19,
   "metadata": {},
   "outputs": [
    {
     "data": {
      "text/html": [
       "<div>\n",
       "<style scoped>\n",
       "    .dataframe tbody tr th:only-of-type {\n",
       "        vertical-align: middle;\n",
       "    }\n",
       "\n",
       "    .dataframe tbody tr th {\n",
       "        vertical-align: top;\n",
       "    }\n",
       "\n",
       "    .dataframe thead th {\n",
       "        text-align: right;\n",
       "    }\n",
       "</style>\n",
       "<table border=\"1\" class=\"dataframe\">\n",
       "  <thead>\n",
       "    <tr style=\"text-align: right;\">\n",
       "      <th></th>\n",
       "      <th>ACCURACY</th>\n",
       "      <th>PRECISION</th>\n",
       "      <th>RECALL</th>\n",
       "      <th>AUC</th>\n",
       "    </tr>\n",
       "  </thead>\n",
       "  <tbody>\n",
       "    <tr>\n",
       "      <th>Female</th>\n",
       "      <td>0.9137</td>\n",
       "      <td>0.6942</td>\n",
       "      <td>0.4308</td>\n",
       "      <td>0.9089</td>\n",
       "    </tr>\n",
       "  </tbody>\n",
       "</table>\n",
       "</div>"
      ],
      "text/plain": [
       "        ACCURACY  PRECISION  RECALL    AUC\n",
       "Female    0.9137     0.6942  0.4308 0.9089"
      ]
     },
     "execution_count": 19,
     "metadata": {},
     "output_type": "execute_result"
    },
    {
     "data": {
      "image/png": "[encoded data removed]",
      "text/plain": [
       "<Figure size 576x432 with 2 Axes>"
      ]
     },
     "metadata": {
      "needs_background": "light"
     },
     "output_type": "display_data"
    }
   ],
   "source": [
    "#@title Visualize Binary Confusion Matrix and Compute Evaluation Metrics Per Subgroup\n",
    "CATEGORY  =  \"gender\" #@param {type:\"string\"}\n",
    "SUBGROUP =  \"Female\" #@param {type:\"string\"}\n",
    "\n",
    "# Labels for annotating axes in plot.\n",
    "classes = ['Over $50K', 'Less than $50K']\n",
    "\n",
    "# Given define subgroup, generate predictions and obtain its corresponding \n",
    "# ground truth.\n",
    "subgroup_filter  = test_df.loc[test_df[CATEGORY] == SUBGROUP]\n",
    "features, labels = pandas_to_numpy(subgroup_filter)\n",
    "subgroup_results = model.evaluate(x=features, y=labels, verbose=0)\n",
    "confusion_matrix = np.array([[subgroup_results[1], subgroup_results[4]], \n",
    "                             [subgroup_results[2], subgroup_results[3]]])\n",
    "\n",
    "subgroup_performance_metrics = {\n",
    "    'ACCURACY': subgroup_results[5],\n",
    "    'PRECISION': subgroup_results[6], \n",
    "    'RECALL': subgroup_results[7],\n",
    "    'AUC': subgroup_results[8]\n",
    "}\n",
    "performance_df = pd.DataFrame(subgroup_performance_metrics, index=[SUBGROUP])\n",
    "pd.options.display.float_format = '{:,.4f}'.format\n",
    "\n",
    "plot_confusion_matrix(confusion_matrix, classes, SUBGROUP);\n",
    "performance_df"
   ]
  },
  {
   "cell_type": "code",
   "execution_count": null,
   "metadata": {},
   "outputs": [],
   "source": []
  }
 ],
 "metadata": {
  "kernelspec": {
   "display_name": "Python 3",
   "language": "python",
   "name": "python3"
  },
  "language_info": {
   "codemirror_mode": {
    "name": "ipython",
    "version": 3
   },
   "file_extension": ".py",
   "mimetype": "text/x-python",
   "name": "python",
   "nbconvert_exporter": "python",
   "pygments_lexer": "ipython3",
   "version": "3.7.9"
  }
 },
 "nbformat": 4,
 "nbformat_minor": 4
}
