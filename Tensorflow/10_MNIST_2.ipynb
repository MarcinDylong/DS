{
 "cells": [
  {
   "cell_type": "code",
   "execution_count": 1,
   "metadata": {},
   "outputs": [],
   "source": [
    "## title Import relevant modules\n",
    "import numpy as np\n",
    "import pandas as pd\n",
    "import tensorflow as tf\n",
    "from tensorflow.keras import layers\n",
    "from matplotlib import pyplot as plt\n",
    "\n",
    "# The following lines adjust the granularity of reporting. \n",
    "pd.options.display.max_rows = 10\n",
    "pd.options.display.float_format = \"{:.1f}\".format\n",
    "\n",
    "# The following line improves formatting when ouputting NumPy arrays.\n",
    "np.set_printoptions(linewidth = 200)"
   ]
  },
  {
   "cell_type": "code",
   "execution_count": 2,
   "metadata": {},
   "outputs": [],
   "source": [
    "(x_train, y_train),(x_test, y_test) = tf.keras.datasets.mnist.load_data()"
   ]
  },
  {
   "cell_type": "code",
   "execution_count": 14,
   "metadata": {},
   "outputs": [
    {
     "data": {
      "text/plain": [
       "<matplotlib.image.AxesImage at 0x1d088ba1908>"
      ]
     },
     "execution_count": 14,
     "metadata": {},
     "output_type": "execute_result"
    },
    {
     "data": {
      "image/png": "[encoded data removed]",
      "text/plain": [
       "<Figure size 432x288 with 1 Axes>"
      ]
     },
     "metadata": {
      "needs_background": "light"
     },
     "output_type": "display_data"
    }
   ],
   "source": [
    "plt.imshow(x_train[15200])"
   ]
  },
  {
   "cell_type": "code",
   "execution_count": 16,
   "metadata": {},
   "outputs": [
    {
     "name": "stdout",
     "output_type": "stream",
     "text": [
      "[0.         0.         0.         0.         0.         0.         0.         0.55294118 1.         0.66666667 0.11372549 0.         0.         0.         0.         0.         0.         0.\n",
      " 0.         0.         0.         0.         0.         0.         0.         0.         0.         0.        ]\n"
     ]
    }
   ],
   "source": [
    "x_train_normalized = x_train / 255 \n",
    "x_test_normalized = x_test / 255 \n",
    "print(x_train_normalized[2900][10]) # Output a normalized row"
   ]
  },
  {
   "cell_type": "code",
   "execution_count": 18,
   "metadata": {},
   "outputs": [
    {
     "name": "stdout",
     "output_type": "stream",
     "text": [
      "Loaded the plot_curve function.\n"
     ]
    }
   ],
   "source": [
    "def plot_curve(epochs, hist, list_of_metrics):\n",
    "    \"\"\"Plot a curve of one or more classification metrics vs. epoch.\"\"\"  \n",
    "    # list_of_metrics should be one of the names shown in:\n",
    "    # https://www.tensorflow.org/tutorials/structured_data/imbalanced_data#define_the_model_and_metrics  \n",
    "\n",
    "    plt.figure()\n",
    "    plt.xlabel(\"Epoch\")\n",
    "    plt.ylabel(\"Value\")\n",
    "\n",
    "    for m in list_of_metrics:\n",
    "        x = hist[m]\n",
    "        plt.plot(epochs[1:], x[1:], label=m)\n",
    "\n",
    "    plt.legend()\n",
    "\n",
    "print(\"Loaded the plot_curve function.\")"
   ]
  },
  {
   "cell_type": "code",
   "execution_count": 38,
   "metadata": {},
   "outputs": [
    {
     "name": "stdout",
     "output_type": "stream",
     "text": [
      "Train on 48000 samples, validate on 12000 samples\n",
      "Epoch 1/50\n",
      "48000/48000 [==============================] - 1s 21us/sample - loss: 1.0215 - accuracy: 0.6953 - val_loss: 0.3479 - val_accuracy: 0.8975\n",
      "Epoch 2/50\n",
      "48000/48000 [==============================] - 1s 11us/sample - loss: 0.3580 - accuracy: 0.8932 - val_loss: 0.2423 - val_accuracy: 0.9302\n",
      "Epoch 3/50\n",
      "48000/48000 [==============================] - 0s 10us/sample - loss: 0.2461 - accuracy: 0.9282 - val_loss: 0.1904 - val_accuracy: 0.9459\n",
      "Epoch 4/50\n",
      "48000/48000 [==============================] - 0s 10us/sample - loss: 0.1944 - accuracy: 0.9429 - val_loss: 0.1573 - val_accuracy: 0.9542\n",
      "Epoch 5/50\n",
      "48000/48000 [==============================] - 1s 11us/sample - loss: 0.1602 - accuracy: 0.9531 - val_loss: 0.1418 - val_accuracy: 0.9589\n",
      "Epoch 6/50\n",
      "48000/48000 [==============================] - 1s 11us/sample - loss: 0.1359 - accuracy: 0.9604 - val_loss: 0.1329 - val_accuracy: 0.9596\n",
      "Epoch 7/50\n",
      "48000/48000 [==============================] - 1s 12us/sample - loss: 0.1210 - accuracy: 0.9640 - val_loss: 0.1188 - val_accuracy: 0.9639\n",
      "Epoch 8/50\n",
      "48000/48000 [==============================] - 1s 11us/sample - loss: 0.1036 - accuracy: 0.9697 - val_loss: 0.1094 - val_accuracy: 0.9678\n",
      "Epoch 9/50\n",
      "48000/48000 [==============================] - 1s 11us/sample - loss: 0.0914 - accuracy: 0.9730 - val_loss: 0.1051 - val_accuracy: 0.9681\n",
      "Epoch 10/50\n",
      "48000/48000 [==============================] - 1s 11us/sample - loss: 0.0810 - accuracy: 0.9760 - val_loss: 0.0990 - val_accuracy: 0.9691\n",
      "Epoch 11/50\n",
      "48000/48000 [==============================] - 1s 11us/sample - loss: 0.0697 - accuracy: 0.9798 - val_loss: 0.0955 - val_accuracy: 0.9708\n",
      "Epoch 12/50\n",
      "48000/48000 [==============================] - 1s 11us/sample - loss: 0.0624 - accuracy: 0.9817 - val_loss: 0.0901 - val_accuracy: 0.9724\n",
      "Epoch 13/50\n",
      "48000/48000 [==============================] - 1s 11us/sample - loss: 0.0562 - accuracy: 0.9836 - val_loss: 0.0893 - val_accuracy: 0.9734\n",
      "Epoch 14/50\n",
      "48000/48000 [==============================] - 1s 13us/sample - loss: 0.0491 - accuracy: 0.9855 - val_loss: 0.0851 - val_accuracy: 0.9751\n",
      "Epoch 15/50\n",
      "48000/48000 [==============================] - 1s 11us/sample - loss: 0.0445 - accuracy: 0.9872 - val_loss: 0.0857 - val_accuracy: 0.9751\n",
      "Epoch 16/50\n",
      "48000/48000 [==============================] - 1s 12us/sample - loss: 0.0405 - accuracy: 0.9884 - val_loss: 0.0847 - val_accuracy: 0.9753\n",
      "Epoch 17/50\n",
      "48000/48000 [==============================] - 1s 11us/sample - loss: 0.0368 - accuracy: 0.9893 - val_loss: 0.0810 - val_accuracy: 0.9757\n",
      "Epoch 18/50\n",
      "48000/48000 [==============================] - 1s 11us/sample - loss: 0.0330 - accuracy: 0.9903 - val_loss: 0.0852 - val_accuracy: 0.9760\n",
      "Epoch 19/50\n",
      "48000/48000 [==============================] - 1s 12us/sample - loss: 0.0304 - accuracy: 0.9914 - val_loss: 0.0825 - val_accuracy: 0.9768\n",
      "Epoch 20/50\n",
      "48000/48000 [==============================] - 1s 11us/sample - loss: 0.0265 - accuracy: 0.9927 - val_loss: 0.0840 - val_accuracy: 0.9771\n",
      "Epoch 21/50\n",
      "48000/48000 [==============================] - 1s 13us/sample - loss: 0.0234 - accuracy: 0.9934 - val_loss: 0.0839 - val_accuracy: 0.9757\n",
      "Epoch 22/50\n",
      "48000/48000 [==============================] - 1s 13us/sample - loss: 0.0223 - accuracy: 0.9937 - val_loss: 0.0806 - val_accuracy: 0.9777\n",
      "Epoch 23/50\n",
      "48000/48000 [==============================] - 1s 12us/sample - loss: 0.0198 - accuracy: 0.9949 - val_loss: 0.0813 - val_accuracy: 0.9766\n",
      "Epoch 24/50\n",
      "48000/48000 [==============================] - 1s 13us/sample - loss: 0.0181 - accuracy: 0.9951 - val_loss: 0.0818 - val_accuracy: 0.9781\n",
      "Epoch 25/50\n",
      "48000/48000 [==============================] - 1s 12us/sample - loss: 0.0150 - accuracy: 0.9960 - val_loss: 0.0821 - val_accuracy: 0.9778\n",
      "Epoch 26/50\n",
      "48000/48000 [==============================] - 1s 13us/sample - loss: 0.0148 - accuracy: 0.9961 - val_loss: 0.0816 - val_accuracy: 0.9776\n",
      "Epoch 27/50\n",
      "48000/48000 [==============================] - 1s 13us/sample - loss: 0.0129 - accuracy: 0.9969 - val_loss: 0.0839 - val_accuracy: 0.9783\n",
      "Epoch 28/50\n",
      "48000/48000 [==============================] - 1s 11us/sample - loss: 0.0114 - accuracy: 0.9972 - val_loss: 0.0845 - val_accuracy: 0.9783\n",
      "Epoch 29/50\n",
      "48000/48000 [==============================] - 1s 11us/sample - loss: 0.0104 - accuracy: 0.9977 - val_loss: 0.0856 - val_accuracy: 0.9776\n",
      "Epoch 30/50\n",
      "48000/48000 [==============================] - 1s 11us/sample - loss: 0.0090 - accuracy: 0.9981 - val_loss: 0.0855 - val_accuracy: 0.9785\n",
      "Epoch 31/50\n",
      "48000/48000 [==============================] - 1s 11us/sample - loss: 0.0090 - accuracy: 0.9980 - val_loss: 0.0881 - val_accuracy: 0.9783\n",
      "Epoch 32/50\n",
      "48000/48000 [==============================] - 0s 10us/sample - loss: 0.0082 - accuracy: 0.9982 - val_loss: 0.0904 - val_accuracy: 0.9783\n",
      "Epoch 33/50\n",
      "48000/48000 [==============================] - 1s 10us/sample - loss: 0.0080 - accuracy: 0.9982 - val_loss: 0.0893 - val_accuracy: 0.9783\n",
      "Epoch 34/50\n",
      "48000/48000 [==============================] - 1s 10us/sample - loss: 0.0068 - accuracy: 0.9990 - val_loss: 0.0883 - val_accuracy: 0.9789\n",
      "Epoch 35/50\n",
      "48000/48000 [==============================] - 1s 11us/sample - loss: 0.0071 - accuracy: 0.9984 - val_loss: 0.0893 - val_accuracy: 0.9785\n",
      "Epoch 36/50\n",
      "48000/48000 [==============================] - 1s 12us/sample - loss: 0.0067 - accuracy: 0.9984 - val_loss: 0.0892 - val_accuracy: 0.9786\n",
      "Epoch 37/50\n",
      "48000/48000 [==============================] - 1s 12us/sample - loss: 0.0057 - accuracy: 0.9990 - val_loss: 0.0930 - val_accuracy: 0.9793\n",
      "Epoch 38/50\n",
      "48000/48000 [==============================] - 1s 12us/sample - loss: 0.0059 - accuracy: 0.9989 - val_loss: 0.0903 - val_accuracy: 0.9783\n",
      "Epoch 39/50\n",
      "48000/48000 [==============================] - 1s 12us/sample - loss: 0.0052 - accuracy: 0.9989 - val_loss: 0.0922 - val_accuracy: 0.9786\n",
      "Epoch 40/50\n",
      "48000/48000 [==============================] - 1s 12us/sample - loss: 0.0050 - accuracy: 0.9990 - val_loss: 0.0946 - val_accuracy: 0.9780\n",
      "Epoch 41/50\n",
      "48000/48000 [==============================] - 1s 12us/sample - loss: 0.0045 - accuracy: 0.9992 - val_loss: 0.0927 - val_accuracy: 0.9783\n",
      "Epoch 42/50\n",
      "48000/48000 [==============================] - 1s 12us/sample - loss: 0.0044 - accuracy: 0.9992 - val_loss: 0.0931 - val_accuracy: 0.9800\n",
      "Epoch 43/50\n",
      "48000/48000 [==============================] - 1s 13us/sample - loss: 0.0042 - accuracy: 0.9992 - val_loss: 0.0949 - val_accuracy: 0.9792\n",
      "Epoch 44/50\n",
      "48000/48000 [==============================] - 1s 13us/sample - loss: 0.0035 - accuracy: 0.9994 - val_loss: 0.0968 - val_accuracy: 0.9791\n",
      "Epoch 45/50\n",
      "48000/48000 [==============================] - 1s 12us/sample - loss: 0.0031 - accuracy: 0.9995 - val_loss: 0.0966 - val_accuracy: 0.9795\n",
      "Epoch 46/50\n",
      "48000/48000 [==============================] - 1s 13us/sample - loss: 0.0031 - accuracy: 0.9995 - val_loss: 0.0966 - val_accuracy: 0.9794\n",
      "Epoch 47/50\n",
      "48000/48000 [==============================] - 1s 13us/sample - loss: 0.0032 - accuracy: 0.9995 - val_loss: 0.0986 - val_accuracy: 0.9803\n",
      "Epoch 48/50\n",
      "48000/48000 [==============================] - 1s 12us/sample - loss: 0.0028 - accuracy: 0.9995 - val_loss: 0.0986 - val_accuracy: 0.9783\n",
      "Epoch 49/50\n",
      "48000/48000 [==============================] - 1s 12us/sample - loss: 0.0026 - accuracy: 0.9998 - val_loss: 0.0970 - val_accuracy: 0.9787\n",
      "Epoch 50/50\n",
      "48000/48000 [==============================] - 1s 11us/sample - loss: 0.0024 - accuracy: 0.9998 - val_loss: 0.0995 - val_accuracy: 0.9788\n",
      "\n",
      " Evaluate the new model against the test set:\n",
      "10000/10000 [==============================] - ETA: 0s - loss: 0.1076 - accuracy: 0.97 - 0s 14us/sample - loss: 0.0819 - accuracy: 0.9808\n"
     ]
    },
    {
     "data": {
      "text/plain": [
       "[0.08193659484386444, 0.9808]"
      ]
     },
     "execution_count": 38,
     "metadata": {},
     "output_type": "execute_result"
    },
    {
     "data": {
      "image/png": "[encoded data removed]",
      "text/plain": [
       "<Figure size 432x288 with 1 Axes>"
      ]
     },
     "metadata": {
      "needs_background": "light"
     },
     "output_type": "display_data"
    }
   ],
   "source": [
    "def create_model(my_learning_rate):\n",
    "    \"\"\"Create and compile a deep neural net.\"\"\"\n",
    "\n",
    "    # All models in this course are sequential.\n",
    "    model = tf.keras.models.Sequential()\n",
    "\n",
    "    # The features are stored in a two-dimensional 28X28 array. \n",
    "    # Flatten that two-dimensional array into a a one-dimensional \n",
    "    # 784-element array.\n",
    "    model.add(tf.keras.layers.Flatten(input_shape=(28, 28)))\n",
    "\n",
    "    # Define the first hidden layer.   \n",
    "    model.add(tf.keras.layers.Dense(units=256, activation='relu'))\n",
    "    \n",
    "     # Define the second hidden layer.   \n",
    "    model.add(tf.keras.layers.Dense(units=128, activation='relu'))\n",
    "    \n",
    "#      # Define the third hidden layer.   \n",
    "#     model.add(tf.keras.layers.Dense(units=64, activation='relu'))\n",
    "\n",
    "    # Define a dropout regularization layer. \n",
    "    model.add(tf.keras.layers.Dropout(rate=0.2))\n",
    "\n",
    "    # Define the output layer. The units parameter is set to 10 because\n",
    "    # the model must choose among 10 possible output values (representing\n",
    "    # the digits from 0 to 9, inclusive).\n",
    "    #\n",
    "    # Don't change this layer.\n",
    "    model.add(tf.keras.layers.Dense(units=10, activation='softmax'))     \n",
    "\n",
    "    # Construct the layers into a model that TensorFlow can execute.  \n",
    "    # Notice that the loss function for multi-class classification\n",
    "    # is different than the loss function for binary classification.  \n",
    "    model.compile(optimizer=tf.keras.optimizers.Adam(lr=my_learning_rate),\n",
    "            loss=\"sparse_categorical_crossentropy\",\n",
    "            metrics=['accuracy'])\n",
    "\n",
    "    return model    \n",
    "\n",
    "\n",
    "def train_model(model, train_features, train_label, epochs, batch_size=None, validation_split=0.1):\n",
    "    \"\"\"Train the model by feeding it data.\"\"\"\n",
    "\n",
    "    history = model.fit(x=train_features, y=train_label, batch_size=batch_size,\n",
    "                      epochs=epochs, shuffle=True, \n",
    "                      validation_split=validation_split)\n",
    "\n",
    "    # To track the progression of training, gather a snapshot\n",
    "    # of the model's metrics at each epoch. \n",
    "    epochs = history.epoch\n",
    "    hist = pd.DataFrame(history.history)\n",
    "\n",
    "    return epochs, hist\n",
    "\n",
    "# The following variables are the hyperparameters.\n",
    "learning_rate = 0.003\n",
    "epochs = 50\n",
    "batch_size = 4000\n",
    "validation_split = 0.2\n",
    "\n",
    "# Establish the model's topography.\n",
    "my_model = create_model(learning_rate)\n",
    "\n",
    "# Train the model on the normalized training set.\n",
    "epochs, hist = train_model(my_model, x_train_normalized, y_train, \n",
    "                           epochs, batch_size, validation_split)\n",
    "\n",
    "# Plot a graph of the metric vs. epochs.\n",
    "list_of_metrics_to_plot = ['accuracy']\n",
    "plot_curve(epochs, hist, list_of_metrics_to_plot)\n",
    "\n",
    "# Evaluate against the test set.\n",
    "print(\"\\n Evaluate the new model against the test set:\")\n",
    "my_model.evaluate(x=x_test_normalized, y=y_test, batch_size=batch_size)"
   ]
  },
  {
   "cell_type": "code",
   "execution_count": null,
   "metadata": {},
   "outputs": [],
   "source": []
  }
 ],
 "metadata": {
  "kernelspec": {
   "display_name": "Python 3",
   "language": "python",
   "name": "python3"
  },
  "language_info": {
   "codemirror_mode": {
    "name": "ipython",
    "version": 3
   },
   "file_extension": ".py",
   "mimetype": "text/x-python",
   "name": "python",
   "nbconvert_exporter": "python",
   "pygments_lexer": "ipython3",
   "version": "3.7.9"
  }
 },
 "nbformat": 4,
 "nbformat_minor": 4
}
