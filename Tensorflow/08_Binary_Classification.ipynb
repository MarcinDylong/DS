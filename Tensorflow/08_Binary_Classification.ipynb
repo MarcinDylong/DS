{
 "cells": [
  {
   "cell_type": "code",
   "execution_count": 1,
   "metadata": {},
   "outputs": [
    {
     "name": "stdout",
     "output_type": "stream",
     "text": [
      "Ran the import statements.\n"
     ]
    }
   ],
   "source": [
    "import numpy as np\n",
    "import pandas as pd\n",
    "import tensorflow as tf\n",
    "from tensorflow import feature_column\n",
    "from tensorflow.keras import layers\n",
    "from matplotlib import pyplot as plt\n",
    "\n",
    "# The following lines adjust the granularity of reporting.\n",
    "pd.options.display.max_rows = 10\n",
    "pd.options.display.float_format = \"{:.1f}\".format\n",
    "# tf.keras.backend.set_floatx('float32')\n",
    "\n",
    "print(\"Ran the import statements.\")"
   ]
  },
  {
   "cell_type": "code",
   "execution_count": 2,
   "metadata": {},
   "outputs": [],
   "source": [
    "train_df = pd.read_csv(\"https://download.mlcc.google.com/mledu-datasets/california_housing_train.csv\")\n",
    "test_df = pd.read_csv(\"https://download.mlcc.google.com/mledu-datasets/california_housing_test.csv\")\n",
    "train_df = train_df.reindex(np.random.permutation(train_df.index)) # shuffle the training set"
   ]
  },
  {
   "cell_type": "code",
   "execution_count": 3,
   "metadata": {},
   "outputs": [
    {
     "data": {
      "text/html": [
       "<div>\n",
       "<style scoped>\n",
       "    .dataframe tbody tr th:only-of-type {\n",
       "        vertical-align: middle;\n",
       "    }\n",
       "\n",
       "    .dataframe tbody tr th {\n",
       "        vertical-align: top;\n",
       "    }\n",
       "\n",
       "    .dataframe thead th {\n",
       "        text-align: right;\n",
       "    }\n",
       "</style>\n",
       "<table border=\"1\" class=\"dataframe\">\n",
       "  <thead>\n",
       "    <tr style=\"text-align: right;\">\n",
       "      <th></th>\n",
       "      <th>longitude</th>\n",
       "      <th>latitude</th>\n",
       "      <th>housing_median_age</th>\n",
       "      <th>total_rooms</th>\n",
       "      <th>total_bedrooms</th>\n",
       "      <th>population</th>\n",
       "      <th>households</th>\n",
       "      <th>median_income</th>\n",
       "      <th>median_house_value</th>\n",
       "    </tr>\n",
       "  </thead>\n",
       "  <tbody>\n",
       "    <tr>\n",
       "      <th>10458</th>\n",
       "      <td>-0.4</td>\n",
       "      <td>0.2</td>\n",
       "      <td>-1.6</td>\n",
       "      <td>0.0</td>\n",
       "      <td>0.3</td>\n",
       "      <td>0.0</td>\n",
       "      <td>0.1</td>\n",
       "      <td>-1.1</td>\n",
       "      <td>-1.3</td>\n",
       "    </tr>\n",
       "    <tr>\n",
       "      <th>13526</th>\n",
       "      <td>-1.2</td>\n",
       "      <td>0.8</td>\n",
       "      <td>0.5</td>\n",
       "      <td>-0.7</td>\n",
       "      <td>-0.9</td>\n",
       "      <td>-0.8</td>\n",
       "      <td>-0.9</td>\n",
       "      <td>1.2</td>\n",
       "      <td>1.4</td>\n",
       "    </tr>\n",
       "    <tr>\n",
       "      <th>3739</th>\n",
       "      <td>0.8</td>\n",
       "      <td>-0.8</td>\n",
       "      <td>-0.3</td>\n",
       "      <td>-0.7</td>\n",
       "      <td>-0.6</td>\n",
       "      <td>0.2</td>\n",
       "      <td>-0.6</td>\n",
       "      <td>0.2</td>\n",
       "      <td>-0.4</td>\n",
       "    </tr>\n",
       "    <tr>\n",
       "      <th>11116</th>\n",
       "      <td>-0.7</td>\n",
       "      <td>0.9</td>\n",
       "      <td>0.2</td>\n",
       "      <td>-1.1</td>\n",
       "      <td>-1.1</td>\n",
       "      <td>-1.1</td>\n",
       "      <td>-1.1</td>\n",
       "      <td>-1.1</td>\n",
       "      <td>-1.2</td>\n",
       "    </tr>\n",
       "    <tr>\n",
       "      <th>12694</th>\n",
       "      <td>-1.1</td>\n",
       "      <td>0.5</td>\n",
       "      <td>-0.1</td>\n",
       "      <td>-0.5</td>\n",
       "      <td>-0.1</td>\n",
       "      <td>0.5</td>\n",
       "      <td>-0.0</td>\n",
       "      <td>-0.8</td>\n",
       "      <td>-0.7</td>\n",
       "    </tr>\n",
       "  </tbody>\n",
       "</table>\n",
       "</div>"
      ],
      "text/plain": [
       "       longitude  latitude  housing_median_age  total_rooms  total_bedrooms  \\\n",
       "10458       -0.4       0.2                -1.6          0.0             0.3   \n",
       "13526       -1.2       0.8                 0.5         -0.7            -0.9   \n",
       "3739         0.8      -0.8                -0.3         -0.7            -0.6   \n",
       "11116       -0.7       0.9                 0.2         -1.1            -1.1   \n",
       "12694       -1.1       0.5                -0.1         -0.5            -0.1   \n",
       "\n",
       "       population  households  median_income  median_house_value  \n",
       "10458         0.0         0.1           -1.1                -1.3  \n",
       "13526        -0.8        -0.9            1.2                 1.4  \n",
       "3739          0.2        -0.6            0.2                -0.4  \n",
       "11116        -1.1        -1.1           -1.1                -1.2  \n",
       "12694         0.5        -0.0           -0.8                -0.7  "
      ]
     },
     "execution_count": 3,
     "metadata": {},
     "output_type": "execute_result"
    }
   ],
   "source": [
    "# Calculate the Z-scores of each column in the training set and\n",
    "# write those Z-scores into a new pandas DataFrame named train_df_norm.\n",
    "train_df_mean = train_df.mean()\n",
    "train_df_std = train_df.std()\n",
    "train_df_norm = (train_df - train_df_mean)/train_df_std\n",
    "\n",
    "# Examine some of the values of the normalized training set. Notice that most \n",
    "# Z-scores fall between -2 and +2.\n",
    "train_df_norm.head()"
   ]
  },
  {
   "cell_type": "code",
   "execution_count": 4,
   "metadata": {},
   "outputs": [],
   "source": [
    "# Calculate the Z-scores of each column in the test set and\n",
    "# write those Z-scores into a new pandas DataFrame named test_df_norm.\n",
    "test_df_mean = test_df.mean()\n",
    "test_df_std  = test_df.std()\n",
    "test_df_norm = (test_df - test_df_mean)/test_df_std"
   ]
  },
  {
   "cell_type": "code",
   "execution_count": 5,
   "metadata": {},
   "outputs": [
    {
     "data": {
      "text/plain": [
       "10458   0.0\n",
       "13526   1.0\n",
       "3739    0.0\n",
       "11116   0.0\n",
       "12694   0.0\n",
       "         ..\n",
       "14114   1.0\n",
       "3245    0.0\n",
       "11132   0.0\n",
       "15373   0.0\n",
       "350     0.0\n",
       "Name: median_house_value_is_high, Length: 8000, dtype: float64"
      ]
     },
     "execution_count": 5,
     "metadata": {},
     "output_type": "execute_result"
    }
   ],
   "source": [
    "treshold = 265000\n",
    "train_df_norm['median_house_value_is_high'] = (train_df['median_house_value'] > treshold).astype(float)\n",
    "test_df_norm['median_house_value_is_high'] = (test_df['median_house_value'] > treshold).astype(float)\n",
    "train_df_norm['median_house_value_is_high'].head(8000)"
   ]
  },
  {
   "cell_type": "code",
   "execution_count": 6,
   "metadata": {},
   "outputs": [
    {
     "data": {
      "text/plain": [
       "<tf.Tensor: shape=(17000, 2), dtype=float32, numpy=\n",
       "array([[-1.1404086 ,  0.01253957],\n",
       "       [ 1.1955109 , -0.7457357 ],\n",
       "       [ 0.16682169, -0.7420659 ],\n",
       "       ...,\n",
       "       [-0.02084635, -0.71362484],\n",
       "       [-0.397545  ,  0.4795234 ],\n",
       "       [-0.88765156, -0.8714269 ]], dtype=float32)>"
      ]
     },
     "execution_count": 6,
     "metadata": {},
     "output_type": "execute_result"
    }
   ],
   "source": [
    "# Create an empty list that will eventually hold all created feature columns.\n",
    "feature_columns = []\n",
    "\n",
    "# Create a numerical feature column to represent median_income.\n",
    "median_income = tf.feature_column.numeric_column(\"median_income\")\n",
    "feature_columns.append(median_income)\n",
    "\n",
    "# Create a numerical feature column to represent total_rooms.\n",
    "tr = tf.feature_column.numeric_column(\"total_rooms\")\n",
    "feature_columns.append(tr)\n",
    "\n",
    "# Convert the list of feature columns into a layer that will later be fed into\n",
    "# the model. \n",
    "feature_layer = layers.DenseFeatures(feature_columns)\n",
    "\n",
    "# Print the first 3 and last 3 rows of the feature_layer's output when applied\n",
    "# to train_df_norm:\n",
    "feature_layer(dict(train_df_norm))"
   ]
  },
  {
   "cell_type": "code",
   "execution_count": 7,
   "metadata": {},
   "outputs": [
    {
     "name": "stdout",
     "output_type": "stream",
     "text": [
      "Defined the create_model and train_model functions.\n"
     ]
    }
   ],
   "source": [
    "def create_model(my_learning_rate, feature_layer, my_metrics):\n",
    "    \"\"\"Create and compile a simple classification model.\"\"\"\n",
    "    # Most simple tf.keras models are sequential.\n",
    "    model = tf.keras.models.Sequential()\n",
    "\n",
    "    # Add the feature layer (the list of features and how they are represented)\n",
    "    # to the model.\n",
    "    model.add(feature_layer)\n",
    "\n",
    "    # Funnel the regression value through a sigmoid function.\n",
    "    model.add(tf.keras.layers.Dense(units=1, input_shape=(1,),\n",
    "                                  activation=tf.sigmoid),)\n",
    "\n",
    "    # Call the compile method to construct the layers into a model that\n",
    "    # TensorFlow can execute.  Notice that we're using a different loss\n",
    "    # function for classification than for regression.    \n",
    "    model.compile(optimizer=tf.keras.optimizers.RMSprop(lr=my_learning_rate),                                                   \n",
    "                loss=tf.keras.losses.BinaryCrossentropy(),\n",
    "                metrics=my_metrics)\n",
    "\n",
    "    return model        \n",
    "\n",
    "\n",
    "def train_model(model, dataset, epochs, label_name, batch_size=None, shuffle=True):\n",
    "    \"\"\"Feed a dataset into the model in order to train it.\"\"\"\n",
    "\n",
    "    # The x parameter of tf.keras.Model.fit can be a list of arrays, where\n",
    "    # each array contains the data for one feature.  Here, we're passing\n",
    "    # every column in the dataset. Note that the feature_layer will filter\n",
    "    # away most of those columns, leaving only the desired columns and their\n",
    "    # representations as features.\n",
    "    features = {name:np.array(value) for name, value in dataset.items()}\n",
    "    label = np.array(features.pop(label_name)) \n",
    "    history = model.fit(x=features, y=label, batch_size=batch_size,\n",
    "                      epochs=epochs, shuffle=shuffle)\n",
    "\n",
    "    # The list of epochs is stored separately from the rest of history.\n",
    "    epochs = history.epoch\n",
    "\n",
    "    # Isolate the classification metric for each epoch.\n",
    "    hist = pd.DataFrame(history.history)\n",
    "\n",
    "    return epochs, hist  \n",
    "\n",
    "print(\"Defined the create_model and train_model functions.\")   "
   ]
  },
  {
   "cell_type": "code",
   "execution_count": 8,
   "metadata": {},
   "outputs": [
    {
     "name": "stdout",
     "output_type": "stream",
     "text": [
      "Defined the plot_curve function.\n"
     ]
    }
   ],
   "source": [
    "def plot_curve(epochs, hist, list_of_metrics):\n",
    "    \"\"\"Plot a curve of one or more classification metrics vs. epoch.\"\"\"  \n",
    "    # list_of_metrics should be one of the names shown in:\n",
    "    # https://www.tensorflow.org/tutorials/structured_data/imbalanced_data#define_the_model_and_metrics  \n",
    "\n",
    "    plt.figure()\n",
    "    plt.xlabel(\"Epoch\")\n",
    "    plt.ylabel(\"Value\")\n",
    "\n",
    "    for m in list_of_metrics:\n",
    "        x = hist[m]\n",
    "        plt.plot(epochs[1:], x[1:], label=m)\n",
    "\n",
    "    plt.legend()\n",
    "\n",
    "print(\"Defined the plot_curve function.\")"
   ]
  },
  {
   "cell_type": "code",
   "execution_count": 9,
   "metadata": {},
   "outputs": [
    {
     "name": "stdout",
     "output_type": "stream",
     "text": [
      "Train on 17000 samples\n",
      "Epoch 1/20\n",
      "17000/17000 [==============================] - 0s 28us/sample - loss: 0.7744 - accuracy: 0.2678\n",
      "Epoch 2/20\n",
      "17000/17000 [==============================] - 0s 11us/sample - loss: 0.6890 - accuracy: 0.3535\n",
      "Epoch 3/20\n",
      "17000/17000 [==============================] - 0s 11us/sample - loss: 0.6164 - accuracy: 0.5258\n",
      "Epoch 4/20\n",
      "17000/17000 [==============================] - 0s 11us/sample - loss: 0.5569 - accuracy: 0.6736\n",
      "Epoch 5/20\n",
      "17000/17000 [==============================] - 0s 11us/sample - loss: 0.5100 - accuracy: 0.7491\n",
      "Epoch 6/20\n",
      "17000/17000 [==============================] - 0s 11us/sample - loss: 0.4752 - accuracy: 0.7866\n",
      "Epoch 7/20\n",
      "17000/17000 [==============================] - 0s 11us/sample - loss: 0.4499 - accuracy: 0.8039\n",
      "Epoch 8/20\n",
      "17000/17000 [==============================] - 0s 11us/sample - loss: 0.4321 - accuracy: 0.8115\n",
      "Epoch 9/20\n",
      "17000/17000 [==============================] - 0s 11us/sample - loss: 0.4197 - accuracy: 0.8138\n",
      "Epoch 10/20\n",
      "17000/17000 [==============================] - 0s 11us/sample - loss: 0.4109 - accuracy: 0.8132\n",
      "Epoch 11/20\n",
      "17000/17000 [==============================] - ETA: 0s - loss: 0.4055 - accuracy: 0.81 - 0s 11us/sample - loss: 0.4049 - accuracy: 0.8118\n",
      "Epoch 12/20\n",
      "17000/17000 [==============================] - 0s 12us/sample - loss: 0.4012 - accuracy: 0.8105\n",
      "Epoch 13/20\n",
      "17000/17000 [==============================] - 0s 11us/sample - loss: 0.3990 - accuracy: 0.8094\n",
      "Epoch 14/20\n",
      "17000/17000 [==============================] - 0s 12us/sample - loss: 0.3979 - accuracy: 0.8086\n",
      "Epoch 15/20\n",
      "17000/17000 [==============================] - 0s 11us/sample - loss: 0.3973 - accuracy: 0.8089\n",
      "Epoch 16/20\n",
      "17000/17000 [==============================] - 0s 11us/sample - loss: 0.3969 - accuracy: 0.8096\n",
      "Epoch 17/20\n",
      "17000/17000 [==============================] - 0s 12us/sample - loss: 0.3968 - accuracy: 0.8085\n",
      "Epoch 18/20\n",
      "17000/17000 [==============================] - 0s 11us/sample - loss: 0.3967 - accuracy: 0.8088\n",
      "Epoch 19/20\n",
      "17000/17000 [==============================] - 0s 11us/sample - loss: 0.3967 - accuracy: 0.8092\n",
      "Epoch 20/20\n",
      "17000/17000 [==============================] - 0s 11us/sample - loss: 0.3966 - accuracy: 0.8089\n"
     ]
    },
    {
     "data": {
      "image/png": "[encoded data removed]",
      "text/plain": [
       "<Figure size 432x288 with 1 Axes>"
      ]
     },
     "metadata": {
      "needs_background": "light"
     },
     "output_type": "display_data"
    }
   ],
   "source": [
    "# The following variables are the hyperparameters.\n",
    "learning_rate = 0.001\n",
    "epochs = 20\n",
    "batch_size = 100\n",
    "label_name = \"median_house_value_is_high\"\n",
    "classification_threshold = 0.35\n",
    "\n",
    "# Establish the metrics the model will measure.\n",
    "METRICS = [\n",
    "           tf.keras.metrics.BinaryAccuracy(name='accuracy', \n",
    "                                           threshold=classification_threshold),\n",
    "          ]\n",
    "\n",
    "# Establish the model's topography.\n",
    "my_model = create_model(learning_rate, feature_layer, METRICS)\n",
    "\n",
    "# Train the model on the training set.\n",
    "epochs, hist = train_model(my_model, train_df_norm, epochs, \n",
    "                           label_name, batch_size)\n",
    "\n",
    "# Plot a graph of the metric(s) vs. epochs.\n",
    "list_of_metrics_to_plot = ['accuracy'] \n",
    "\n",
    "plot_curve(epochs, hist, list_of_metrics_to_plot)"
   ]
  },
  {
   "cell_type": "code",
   "execution_count": 10,
   "metadata": {},
   "outputs": [
    {
     "name": "stdout",
     "output_type": "stream",
     "text": [
      "3000/3000 [==============================] - 0s 33us/sample - loss: 0.4068 - accuracy: 0.8013\n"
     ]
    },
    {
     "data": {
      "text/plain": [
       "[0.40679032206535337, 0.8013333]"
      ]
     },
     "execution_count": 10,
     "metadata": {},
     "output_type": "execute_result"
    }
   ],
   "source": [
    "features = {name:np.array(value) for name, value in test_df_norm.items()}\n",
    "label = np.array(features.pop(label_name))\n",
    "\n",
    "my_model.evaluate(x = features, y = label, batch_size=batch_size)"
   ]
  },
  {
   "cell_type": "code",
   "execution_count": 11,
   "metadata": {},
   "outputs": [
    {
     "name": "stdout",
     "output_type": "stream",
     "text": [
      "Train on 17000 samples\n",
      "Epoch 1/20\n",
      "17000/17000 [==============================] - 1s 54us/sample - loss: 1.1658 - accuracy: 0.2282 - precision: 0.1413 - recall: 0.4113\n",
      "Epoch 2/20\n",
      "17000/17000 [==============================] - 0s 11us/sample - loss: 1.0241 - accuracy: 0.2352 - precision: 0.1366 - recall: 0.3876\n",
      "Epoch 3/20\n",
      "17000/17000 [==============================] - 0s 12us/sample - loss: 0.8967 - accuracy: 0.2484 - precision: 0.1284 - recall: 0.34680s - loss: 0.9067 - accuracy: 0.2458 - precision: 0.1308 - recall: 0.354\n",
      "Epoch 4/20\n",
      "17000/17000 [==============================] - 0s 13us/sample - loss: 0.7883 - accuracy: 0.2759 - precision: 0.1132 - recall: 0.2778\n",
      "Epoch 5/20\n",
      "17000/17000 [==============================] - 0s 12us/sample - loss: 0.6969 - accuracy: 0.3531 - precision: 0.0887 - recall: 0.1714\n",
      "Epoch 6/20\n",
      "17000/17000 [==============================] - 0s 13us/sample - loss: 0.6233 - accuracy: 0.6102 - precision: 0.0540 - recall: 0.03390s - loss: 0.6433 - accuracy: 0.4786 - precision: 0.0623 - recall: 0.\n",
      "Epoch 7/20\n",
      "17000/17000 [==============================] - 0s 12us/sample - loss: 0.5666 - accuracy: 0.7507 - precision: 1.0000 - recall: 0.0021\n",
      "Epoch 8/20\n",
      "17000/17000 [==============================] - 0s 13us/sample - loss: 0.5235 - accuracy: 0.7785 - precision: 0.9125 - recall: 0.1253\n",
      "Epoch 9/20\n",
      "17000/17000 [==============================] - 0s 12us/sample - loss: 0.4909 - accuracy: 0.8141 - precision: 0.8240 - recall: 0.3252\n",
      "Epoch 10/20\n",
      "17000/17000 [==============================] - 0s 11us/sample - loss: 0.4661 - accuracy: 0.8254 - precision: 0.7534 - recall: 0.4474\n",
      "Epoch 11/20\n",
      "17000/17000 [==============================] - 0s 11us/sample - loss: 0.4464 - accuracy: 0.8269 - precision: 0.7164 - recall: 0.5086\n",
      "Epoch 12/20\n",
      "17000/17000 [==============================] - ETA: 0s - loss: 0.4307 - accuracy: 0.8248 - precision: 0.6835 - recall: 0.546 - 0s 11us/sample - loss: 0.4311 - accuracy: 0.8234 - precision: 0.6820 - recall: 0.5489\n",
      "Epoch 13/20\n",
      "17000/17000 [==============================] - 0s 13us/sample - loss: 0.4194 - accuracy: 0.8186 - precision: 0.6559 - recall: 0.5759\n",
      "Epoch 14/20\n",
      "17000/17000 [==============================] - 0s 13us/sample - loss: 0.4109 - accuracy: 0.8152 - precision: 0.6409 - recall: 0.5922\n",
      "Epoch 15/20\n",
      "17000/17000 [==============================] - 0s 13us/sample - loss: 0.4051 - accuracy: 0.8129 - precision: 0.6317 - recall: 0.6018\n",
      "Epoch 16/20\n",
      "17000/17000 [==============================] - 0s 13us/sample - loss: 0.4013 - accuracy: 0.8103 - precision: 0.6231 - recall: 0.6089\n",
      "Epoch 17/20\n",
      "17000/17000 [==============================] - 0s 13us/sample - loss: 0.3991 - accuracy: 0.8092 - precision: 0.6198 - recall: 0.61170s - loss: 0.4009 - accuracy: 0.8076 - precision: 0.6166 - recall: 0.60\n",
      "Epoch 18/20\n",
      "17000/17000 [==============================] - 0s 13us/sample - loss: 0.3979 - accuracy: 0.8094 - precision: 0.6198 - recall: 0.6129\n",
      "Epoch 19/20\n",
      "17000/17000 [==============================] - 0s 12us/sample - loss: 0.3973 - accuracy: 0.8086 - precision: 0.6172 - recall: 0.6157\n",
      "Epoch 20/20\n",
      "17000/17000 [==============================] - 0s 11us/sample - loss: 0.3970 - accuracy: 0.8087 - precision: 0.6178 - recall: 0.6146\n"
     ]
    },
    {
     "data": {
      "image/png": "[encoded data removed]",
      "text/plain": [
       "<Figure size 432x288 with 1 Axes>"
      ]
     },
     "metadata": {
      "needs_background": "light"
     },
     "output_type": "display_data"
    }
   ],
   "source": [
    "# The following variables are the hyperparameters.\n",
    "learning_rate = 0.001\n",
    "epochs = 20\n",
    "batch_size = 100\n",
    "classification_threshold = 0.35\n",
    "label_name = \"median_house_value_is_high\"\n",
    "\n",
    "# Modify the following definition of METRICS to generate\n",
    "# not only accuracy and precision, but also recall:\n",
    "METRICS = [\n",
    "      tf.keras.metrics.BinaryAccuracy(name='accuracy', \n",
    "                                      threshold=classification_threshold),\n",
    "      tf.keras.metrics.Precision(thresholds=classification_threshold,\n",
    "                                 name='precision' \n",
    "                                 ),\n",
    "      tf.keras.metrics.Recall(thresholds=classification_threshold,\n",
    "                              name=\"recall\"),\n",
    "]\n",
    "\n",
    "# Establish the model's topography.\n",
    "my_model = create_model(learning_rate, feature_layer, METRICS)\n",
    "\n",
    "# Train the model on the training set.\n",
    "epochs, hist = train_model(my_model, train_df_norm, epochs, \n",
    "                           label_name, batch_size)\n",
    "\n",
    "# Plot metrics vs. epochs\n",
    "list_of_metrics_to_plot = ['accuracy', 'precision', 'recall'] \n",
    "plot_curve(epochs, hist, list_of_metrics_to_plot)"
   ]
  },
  {
   "cell_type": "code",
   "execution_count": 12,
   "metadata": {},
   "outputs": [
    {
     "name": "stdout",
     "output_type": "stream",
     "text": [
      "Train on 17000 samples\n",
      "Epoch 1/20\n",
      "17000/17000 [==============================] - ETA: 0s - loss: 0.6364 - accuracy: 0.7292 - precision: 0.4710 - recall: 0.694 - 1s 45us/sample - loss: 0.6284 - accuracy: 0.7321 - precision: 0.4754 - recall: 0.6986\n",
      "Epoch 2/20\n",
      "17000/17000 [==============================] - 0s 12us/sample - loss: 0.5769 - accuracy: 0.7522 - precision: 0.5030 - recall: 0.6682\n",
      "Epoch 3/20\n",
      "17000/17000 [==============================] - 0s 15us/sample - loss: 0.5325 - accuracy: 0.7706 - precision: 0.5341 - recall: 0.6421\n",
      "Epoch 4/20\n",
      "17000/17000 [==============================] - 0s 12us/sample - loss: 0.4948 - accuracy: 0.7858 - precision: 0.5662 - recall: 0.6105\n",
      "Epoch 5/20\n",
      "17000/17000 [==============================] - 0s 12us/sample - loss: 0.4629 - accuracy: 0.7995 - precision: 0.6024 - recall: 0.5802\n",
      "Epoch 6/20\n",
      "17000/17000 [==============================] - 0s 12us/sample - loss: 0.4376 - accuracy: 0.8116 - precision: 0.6439 - recall: 0.55000s - loss: 0.4462 - accuracy: 0.8089 - precision: 0.6350 - recall: 0.55\n",
      "Epoch 7/20\n",
      "17000/17000 [==============================] - 0s 11us/sample - loss: 0.4196 - accuracy: 0.8216 - precision: 0.6887 - recall: 0.5215\n",
      "Epoch 8/20\n",
      "17000/17000 [==============================] - 0s 12us/sample - loss: 0.4079 - accuracy: 0.8274 - precision: 0.7268 - recall: 0.4954\n",
      "Epoch 9/20\n",
      "17000/17000 [==============================] - 0s 11us/sample - loss: 0.4016 - accuracy: 0.8305 - precision: 0.7532 - recall: 0.4780\n",
      "Epoch 10/20\n",
      "17000/17000 [==============================] - 0s 12us/sample - loss: 0.3987 - accuracy: 0.8343 - precision: 0.7780 - recall: 0.4712\n",
      "Epoch 11/20\n",
      "17000/17000 [==============================] - 0s 13us/sample - loss: 0.3975 - accuracy: 0.8356 - precision: 0.7850 - recall: 0.4712\n",
      "Epoch 12/20\n",
      "17000/17000 [==============================] - 0s 14us/sample - loss: 0.3970 - accuracy: 0.8367 - precision: 0.7908 - recall: 0.4709\n",
      "Epoch 13/20\n",
      "17000/17000 [==============================] - 0s 14us/sample - loss: 0.3968 - accuracy: 0.8368 - precision: 0.7911 - recall: 0.4709\n",
      "Epoch 14/20\n",
      "17000/17000 [==============================] - 0s 13us/sample - loss: 0.3967 - accuracy: 0.8362 - precision: 0.7882 - recall: 0.4707\n",
      "Epoch 15/20\n",
      "17000/17000 [==============================] - 0s 13us/sample - loss: 0.3967 - accuracy: 0.8361 - precision: 0.7865 - recall: 0.4719\n",
      "Epoch 16/20\n",
      "17000/17000 [==============================] - 0s 14us/sample - loss: 0.3966 - accuracy: 0.8365 - precision: 0.7893 - recall: 0.4712\n",
      "Epoch 17/20\n",
      "17000/17000 [==============================] - 0s 14us/sample - loss: 0.3966 - accuracy: 0.8361 - precision: 0.7869 - recall: 0.4714\n",
      "Epoch 18/20\n",
      "17000/17000 [==============================] - 0s 16us/sample - loss: 0.3966 - accuracy: 0.8359 - precision: 0.7866 - recall: 0.4712\n",
      "Epoch 19/20\n",
      "17000/17000 [==============================] - 0s 13us/sample - loss: 0.3966 - accuracy: 0.8361 - precision: 0.7826 - recall: 0.4763\n",
      "Epoch 20/20\n",
      "17000/17000 [==============================] - 0s 14us/sample - loss: 0.3966 - accuracy: 0.8361 - precision: 0.7875 - recall: 0.4712\n"
     ]
    },
    {
     "data": {
      "image/png": "[encoded data removed]",
      "text/plain": [
       "<Figure size 432x288 with 1 Axes>"
      ]
     },
     "metadata": {
      "needs_background": "light"
     },
     "output_type": "display_data"
    }
   ],
   "source": [
    "#@title Double-click to view the solution for Task 4.\n",
    "\n",
    "# The following variables are the hyperparameters.\n",
    "learning_rate = 0.001\n",
    "epochs = 20\n",
    "batch_size = 100\n",
    "classification_threshold = 0.52\n",
    "label_name = \"median_house_value_is_high\"\n",
    "\n",
    "# Here is the updated definition of METRICS:\n",
    "METRICS = [\n",
    "      tf.keras.metrics.BinaryAccuracy(name='accuracy', \n",
    "                                      threshold=classification_threshold),\n",
    "      tf.keras.metrics.Precision(thresholds=classification_threshold,\n",
    "                                 name='precision' \n",
    "                                 ),\n",
    "      tf.keras.metrics.Recall(thresholds=classification_threshold,\n",
    "                              name=\"recall\"),\n",
    "]\n",
    "\n",
    "# Establish the model's topography.\n",
    "my_model = create_model(learning_rate, feature_layer, METRICS)\n",
    "\n",
    "# Train the model on the training set.\n",
    "epochs, hist = train_model(my_model, train_df_norm, epochs, \n",
    "                           label_name, batch_size)\n",
    "\n",
    "# Plot metrics vs. epochs\n",
    "list_of_metrics_to_plot = ['accuracy', \"precision\", \"recall\"] \n",
    "plot_curve(epochs, hist, list_of_metrics_to_plot)\n",
    "\n",
    "# A `classification_threshold` of slightly over 0.5\n",
    "# appears to produce the highest accuracy (about 83%).\n",
    "# Raising the `classification_threshold` to 0.9 drops \n",
    "# accuracy by about 5%.  Lowering the \n",
    "# `classification_threshold` to 0.3 drops accuracy by \n",
    "# about 3%. "
   ]
  },
  {
   "cell_type": "code",
   "execution_count": 13,
   "metadata": {},
   "outputs": [
    {
     "name": "stdout",
     "output_type": "stream",
     "text": [
      "Train on 17000 samples\n",
      "Epoch 1/20\n",
      "17000/17000 [==============================] - 1s 43us/sample - loss: 1.2492 - auc: 0.2067\n",
      "Epoch 2/20\n",
      "17000/17000 [==============================] - 0s 14us/sample - loss: 1.1016 - auc: 0.2076\n",
      "Epoch 3/20\n",
      "17000/17000 [==============================] - 0s 13us/sample - loss: 0.9690 - auc: 0.2088\n",
      "Epoch 4/20\n",
      "17000/17000 [==============================] - 0s 11us/sample - loss: 0.8517 - auc: 0.2104\n",
      "Epoch 5/20\n",
      "17000/17000 [==============================] - 0s 11us/sample - loss: 0.7522 - auc: 0.2142\n",
      "Epoch 6/20\n",
      "17000/17000 [==============================] - 0s 12us/sample - loss: 0.6702 - auc: 0.2212\n",
      "Epoch 7/20\n",
      "17000/17000 [==============================] - 0s 11us/sample - loss: 0.6043 - auc: 0.2579\n",
      "Epoch 8/20\n",
      "17000/17000 [==============================] - 0s 12us/sample - loss: 0.5528 - auc: 0.6588\n",
      "Epoch 9/20\n",
      "17000/17000 [==============================] - 0s 12us/sample - loss: 0.5125 - auc: 0.8285\n",
      "Epoch 10/20\n",
      "17000/17000 [==============================] - 0s 12us/sample - loss: 0.4828 - auc: 0.8266\n",
      "Epoch 11/20\n",
      "17000/17000 [==============================] - 0s 13us/sample - loss: 0.4594 - auc: 0.8306\n",
      "Epoch 12/20\n",
      "17000/17000 [==============================] - 0s 13us/sample - loss: 0.4412 - auc: 0.8326\n",
      "Epoch 13/20\n",
      "17000/17000 [==============================] - 0s 13us/sample - loss: 0.4274 - auc: 0.8344\n",
      "Epoch 14/20\n",
      "17000/17000 [==============================] - 0s 13us/sample - loss: 0.4165 - auc: 0.8352\n",
      "Epoch 15/20\n",
      "17000/17000 [==============================] - 0s 12us/sample - loss: 0.4088 - auc: 0.8359\n",
      "Epoch 16/20\n",
      "17000/17000 [==============================] - 0s 13us/sample - loss: 0.4037 - auc: 0.8364\n",
      "Epoch 17/20\n",
      "17000/17000 [==============================] - 0s 13us/sample - loss: 0.4006 - auc: 0.8367\n",
      "Epoch 18/20\n",
      "17000/17000 [==============================] - 0s 14us/sample - loss: 0.3987 - auc: 0.8366\n",
      "Epoch 19/20\n",
      "17000/17000 [==============================] - 0s 14us/sample - loss: 0.3977 - auc: 0.8367\n",
      "Epoch 20/20\n",
      "17000/17000 [==============================] - 0s 12us/sample - loss: 0.3972 - auc: 0.8369\n"
     ]
    },
    {
     "data": {
      "image/png": "[encoded data removed]",
      "text/plain": [
       "<Figure size 432x288 with 1 Axes>"
      ]
     },
     "metadata": {
      "needs_background": "light"
     },
     "output_type": "display_data"
    }
   ],
   "source": [
    "#@title Double-click to view the solution for Task 5.\n",
    "\n",
    "# The following variables are the hyperparameters.\n",
    "learning_rate = 0.001\n",
    "epochs = 20\n",
    "batch_size = 100\n",
    "label_name = \"median_house_value_is_high\"\n",
    "\n",
    "# AUC is a reasonable \"summary\" metric for \n",
    "# classification models.\n",
    "# Here is the updated definition of METRICS to \n",
    "# measure AUC:\n",
    "METRICS = [\n",
    "      tf.keras.metrics.AUC(num_thresholds=100, name='auc'),\n",
    "]\n",
    "\n",
    "# Establish the model's topography.\n",
    "my_model = create_model(learning_rate, feature_layer, METRICS)\n",
    "\n",
    "# Train the model on the training set.\n",
    "epochs, hist = train_model(my_model, train_df_norm, epochs, \n",
    "                           label_name, batch_size)\n",
    "\n",
    "# Plot metrics vs. epochs\n",
    "list_of_metrics_to_plot = ['auc'] \n",
    "plot_curve(epochs, hist, list_of_metrics_to_plot)"
   ]
  },
  {
   "cell_type": "code",
   "execution_count": null,
   "metadata": {},
   "outputs": [],
   "source": []
  }
 ],
 "metadata": {
  "kernelspec": {
   "display_name": "Python 3",
   "language": "python",
   "name": "python3"
  },
  "language_info": {
   "codemirror_mode": {
    "name": "ipython",
    "version": 3
   },
   "file_extension": ".py",
   "mimetype": "text/x-python",
   "name": "python",
   "nbconvert_exporter": "python",
   "pygments_lexer": "ipython3",
   "version": "3.7.9"
  }
 },
 "nbformat": 4,
 "nbformat_minor": 4
}
